{
 "cells": [
  {
   "cell_type": "code",
   "execution_count": null,
   "metadata": {},
   "outputs": [
    {
     "name": "stdout",
     "output_type": "stream",
     "text": [
      "{'USD': 1, 'AED': 3.6725, 'AFN': 67.8917, 'ALL': 91.115, 'AMD': 387.2451, 'ANG': 1.79, 'AOA': 917.498, 'ARS': 994.75, 'AUD': 1.5219, 'AWG': 1.79, 'AZN': 1.698, 'BAM': 1.8222, 'BBD': 2.0, 'BDT': 119.4942, 'BGN': 1.8229, 'BHD': 0.376, 'BIF': 2919.7351, 'BMD': 1.0, 'BND': 1.3332, 'BOB': 6.9231, 'BRL': 5.7539, 'BSD': 1.0, 'BTN': 84.3252, 'BWP': 13.3916, 'BYN': 3.3158, 'BZD': 2.0, 'CAD': 1.3934, 'CDF': 2850.8341, 'CHF': 0.8758, 'CLP': 957.2932, 'CNY': 7.1851, 'COP': 4399.7927, 'CRC': 512.5132, 'CUP': 24.0, 'CVE': 102.729, 'CZK': 23.6085, 'DJF': 177.721, 'DKK': 6.9502, 'DOP': 60.2531, 'DZD': 133.6272, 'EGP': 49.2121, 'ERN': 15.0, 'ETB': 121.0012, 'EUR': 0.9316, 'FJD': 2.2517, 'FKP': 0.776, 'FOK': 6.9503, 'GBP': 0.776, 'GEL': 2.7203, 'GGP': 0.776, 'GHS': 16.4879, 'GIP': 0.776, 'GMD': 71.4154, 'GNF': 8587.3391, 'GTQ': 7.716, 'GYD': 208.818, 'HKD': 7.7763, 'HNL': 25.2053, 'HRK': 7.0196, 'HTG': 131.3982, 'HUF': 381.9593, 'IDR': 15836.4307, 'ILS': 3.7338, 'IMP': 0.776, 'INR': 84.3227, 'IQD': 1307.7329, 'IRR': 42067.1186, 'ISK': 138.3589, 'JEP': 0.776, 'JMD': 158.691, 'JOD': 0.709, 'JPY': 154.2925, 'KES': 128.8166, 'KGS': 85.6614, 'KHR': 4066.3253, 'KID': 1.5218, 'KMF': 458.3447, 'KRW': 1399.3582, 'KWD': 0.307, 'KYD': 0.8333, 'KZT': 493.1137, 'LAK': 21855.0315, 'LBP': 89500.0, 'LKR': 292.6221, 'LRD': 191.3722, 'LSL': 17.6551, 'LYD': 4.8035, 'MAD': 9.8522, 'MDL': 17.889, 'MGA': 4605.4847, 'MKD': 56.805, 'MMK': 2099.8297, 'MNT': 3411.8139, 'MOP': 8.0097, 'MRU': 39.6687, 'MUR': 46.3538, 'MVR': 15.4235, 'MWK': 1737.1005, 'MXN': 20.2901, 'MYR': 4.4032, 'MZN': 63.8385, 'NAD': 17.6551, 'NGN': 1668.2671, 'NIO': 36.7998, 'NOK': 11.0804, 'NPR': 134.9203, 'NZD': 1.6825, 'OMR': 0.3845, 'PAB': 1.0, 'PEN': 3.7811, 'PGK': 3.9915, 'PHP': 58.8588, 'PKR': 278.0959, 'PLN': 4.0566, 'PYG': 7766.3269, 'QAR': 3.64, 'RON': 4.6328, 'RSD': 108.8163, 'RUB': 97.6856, 'RWF': 1366.1554, 'SAR': 3.75, 'SBD': 8.4905, 'SCR': 14.5468, 'SDG': 543.1008, 'SEK': 10.856, 'SGD': 1.3332, 'SHP': 0.776, 'SLE': 22.6864, 'SLL': 22686.4362, 'SOS': 570.2735, 'SRD': 34.8762, 'SSP': 3343.6912, 'STN': 22.8256, 'SYP': 12943.7627, 'SZL': 17.6551, 'THB': 34.3185, 'TJS': 10.6613, 'TMT': 3.4953, 'TND': 3.1132, 'TOP': 2.3463, 'TRY': 34.2265, 'TTD': 6.7719, 'TVD': 1.5218, 'TWD': 32.2885, 'TZS': 2668.5058, 'UAH': 41.4641, 'UGX': 3668.5154, 'UYU': 41.6131, 'UZS': 12767.6729, 'VES': 43.7822, 'VND': 25374.0269, 'VUV': 120.041, 'WST': 2.7433, 'XAF': 611.1263, 'XCD': 2.7, 'XDR': 0.7558, 'XOF': 611.1263, 'XPF': 111.1764, 'YER': 250.0392, 'ZAR': 17.6551, 'ZMW': 27.018, 'ZWL': 26.0142}\n"
     ]
    }
   ],
   "source": [
    "import requests\n",
    "import json\n",
    "import seaborn as sns\n",
    "import pandas as pd\n",
    "import matplotlib.pyplot as plt\n",
    "\n",
    "#@reactive.calc\n",
    "def url():\n",
    "    return f\"https://v6.exchangerate-api.com/v6/e4422bdb5030904fad352315/latest/USD\"\n",
    "\n",
    "#@render.code\n",
    "async def info():\n",
    "    response = requests.get(url())\n",
    "    if response.status_code == 200:\n",
    "        exrate = json.loads(response.text)['conversion_rates']\n",
    "        filename = \"exchange_rate.txt\"\n",
    "        with open(filename, \"w\") as file:\n",
    "            file.write(json.dumps(exrate))\n",
    "        return exrate\n",
    "    else:\n",
    "        return None\n",
    "\n",
    "# Call the info function and print the result\n",
    "exrate = await info()\n",
    "print(exrate)\n",
    "\n"
   ]
  },
  {
   "cell_type": "code",
   "execution_count": 8,
   "metadata": {},
   "outputs": [
    {
     "name": "stdout",
     "output_type": "stream",
     "text": [
      "    Currency      Rate\n",
      "0        USD    1.0000\n",
      "1        AED    3.6725\n",
      "2        AFN   67.8917\n",
      "3        ALL   91.1150\n",
      "4        AMD  387.2451\n",
      "..       ...       ...\n",
      "157      XPF  111.1764\n",
      "158      YER  250.0392\n",
      "159      ZAR   17.6551\n",
      "160      ZMW   27.0180\n",
      "161      ZWL   26.0142\n",
      "\n",
      "[162 rows x 2 columns]\n"
     ]
    }
   ],
   "source": [
    "# Create a dataframe from the exrate dictionary\n",
    "df_exrate = pd.DataFrame(list(exrate.items()), columns=['Currency', 'Rate'])\n",
    "print(df_exrate)"
   ]
  },
  {
   "cell_type": "code",
   "execution_count": 12,
   "metadata": {},
   "outputs": [
    {
     "name": "stdout",
     "output_type": "stream",
     "text": [
      "{'AED': 'UAE Dirham', 'AFN': 'Afghan Afghani', 'ALL': 'Albanian Lek', 'AMD': 'Armenian Dram', 'ANG': 'Netherlands Antillian Guilder', 'AOA': 'Angolan Kwanza', 'ARS': 'Argentine Peso', 'AUD': 'Australian Dollar', 'AWG': 'Aruban Florin', 'AZN': 'Azerbaijani Manat', 'BAM': 'Bosnia and Herzegovina Mark', 'BBD': 'Barbados Dollar', 'BDT': 'Bangladeshi Taka', 'BGN': 'Bulgarian Lev', 'BHD': 'Bahraini Dinar', 'BIF': 'Burundian Franc', 'BMD': 'Bermudian Dollar', 'BND': 'Brunei Dollar', 'BOB': 'Bolivian Boliviano', 'BRL': 'Brazilian Real', 'BSD': 'Bahamian Dollar', 'BTN': 'Bhutanese Ngultrum', 'BWP': 'Botswana Pula', 'BYN': 'Belarusian Ruble', 'BZD': 'Belize Dollar', 'CAD': 'Canadian Dollar', 'CDF': 'Congolese Franc', 'CHF': 'Swiss Franc', 'CLP': 'Chilean Peso', 'CNY': 'Chinese Renminbi', 'COP': 'Colombian Peso', 'CRC': 'Costa Rican Colon', 'CUP': 'Cuban Peso', 'CVE': 'Cape Verdean Escudo', 'CZK': 'Czech Koruna', 'DJF': 'Djiboutian Franc', 'DKK': 'Danish Krone', 'DOP': 'Dominican Peso', 'DZD': 'Algerian Dinar', 'EGP': 'Egyptian Pound', 'ERN': 'Eritrean Nakfa', 'ETB': 'Ethiopian Birr', 'EUR': 'Euro', 'FJD': 'Fiji Dollar', 'FKP': 'Falkland Islands Pound', 'FOK': 'Faroese Króna', 'GBP': 'Pound Sterling', 'GEL': 'Georgian Lari', 'GGP': 'Guernsey Pound', 'GHS': 'Ghanaian Cedi', 'GIP': 'Gibraltar Pound', 'GMD': 'Gambian Dalasi', 'GNF': 'Guinean Franc', 'GTQ': 'Guatemalan Quetzal', 'GYD': 'Guyanese Dollar', 'HKD': 'Hong Kong Dollar', 'HNL': 'Honduran Lempira', 'HRK': 'Croatian Kuna', 'HTG': 'Haitian Gourde', 'HUF': 'Hungarian Forint', 'IDR': 'Indonesian Rupiah', 'ILS': 'Israeli New Shekel', 'IMP': 'Manx Pound', 'INR': 'Indian Rupee', 'IQD': 'Iraqi Dinar', 'IRR': 'Iranian Rial', 'ISK': 'Icelandic Króna', 'JEP': 'Jersey Pound', 'JMD': 'Jamaican Dollar', 'JOD': 'Jordanian Dinar', 'JPY': 'Japanese Yen', 'KES': 'Kenyan Shilling', 'KGS': 'Kyrgyzstani Som', 'KHR': 'Cambodian Riel', 'KID': 'Kiribati Dollar', 'KMF': 'Comorian Franc', 'KRW': 'South Korean Won', 'KWD': 'Kuwaiti Dinar', 'KYD': 'Cayman Islands Dollar', 'KZT': 'Kazakhstani Tenge', 'LAK': 'Lao Kip', 'LBP': 'Lebanese Pound', 'LKR': 'Sri Lanka Rupee', 'LRD': 'Liberian Dollar', 'LSL': 'Lesotho Loti', 'LYD': 'Libyan Dinar', 'MAD': 'Moroccan Dirham', 'MDL': 'Moldovan Leu', 'MGA': 'Malagasy Ariary', 'MKD': 'Macedonian Denar', 'MMK': 'Burmese Kyat', 'MNT': 'Mongolian Tögrög', 'MOP': 'Macanese Pataca', 'MRU': 'Mauritanian Ouguiya', 'MUR': 'Mauritian Rupee', 'MVR': 'Maldivian Rufiyaa', 'MWK': 'Malawian Kwacha', 'MXN': 'Mexican Peso', 'MYR': 'Malaysian Ringgit', 'MZN': 'Mozambican Metical', 'NAD': 'Namibian Dollar', 'NGN': 'Nigerian Naira', 'NIO': 'Nicaraguan Córdoba', 'NOK': 'Norwegian Krone', 'NPR': 'Nepalese Rupee', 'NZD': 'New Zealand Dollar', 'OMR': 'Omani Rial', 'PAB': 'Panamanian Balboa', 'PEN': 'Peruvian Sol', 'PGK': 'Papua New Guinean Kina', 'PHP': 'Philippine Peso', 'PKR': 'Pakistani Rupee', 'PLN': 'Polish Złoty', 'PYG': 'Paraguayan Guaraní', 'QAR': 'Qatari Riyal', 'RON': 'Romanian Leu', 'RSD': 'Serbian Dinar', 'RUB': 'Russian Ruble', 'RWF': 'Rwandan Franc', 'SAR': 'Saudi Riyal', 'SBD': 'Solomon Islands Dollar', 'SCR': 'Seychellois Rupee', 'SDG': 'Sudanese Pound', 'SEK': 'Swedish Krona', 'SGD': 'Singapore Dollar', 'SHP': 'Saint Helena Pound', 'SLE': 'Sierra Leonean Leone', 'SOS': 'Somali Shilling', 'SRD': 'Surinamese Dollar', 'SSP': 'South Sudanese Pound', 'STN': 'São Tomé and Príncipe Dobra', 'SYP': 'Syrian Pound', 'SZL': 'Eswatini Lilangeni', 'THB': 'Thai Baht', 'TJS': 'Tajikistani Somoni', 'TMT': 'Turkmenistan Manat', 'TND': 'Tunisian Dinar', 'TOP': 'Tongan Paʻanga', 'TRY': 'Turkish Lira', 'TTD': 'Trinidad and Tobago Dollar', 'TVD': 'Tuvaluan Dollar', 'TWD': 'New Taiwan Dollar', 'TZS': 'Tanzanian Shilling', 'UAH': 'Ukrainian Hryvnia', 'UGX': 'Ugandan Shilling', 'USD': 'United States Dollar', 'UYU': 'Uruguayan Peso', 'UZS': \"Uzbekistani So'm\", 'VES': 'Venezuelan Bolívar Soberano', 'VND': 'Vietnamese Đồng', 'VUV': 'Vanuatu Vatu', 'WST': 'Samoan Tālā', 'XAF': 'Central African CFA Franc', 'XCD': 'East Caribbean Dollar', 'XDR': 'Special Drawing Rights', 'XOF': 'West African CFA franc', 'XPF': 'CFP Franc', 'YER': 'Yemeni Rial', 'ZAR': 'South African Rand', 'ZMW': 'Zambian Kwacha', 'ZWL': 'Zimbabwean Dollar'}\n"
     ]
    }
   ],
   "source": [
    "iso4217_df = pd.read_csv('../iso4217.csv')\n",
    "country_dict = dict(zip(iso4217_df['Currency Code'], iso4217_df['Currency Name']))\n",
    "print(country_dict)"
   ]
  },
  {
   "cell_type": "code",
   "execution_count": 13,
   "metadata": {},
   "outputs": [
    {
     "name": "stdout",
     "output_type": "stream",
     "text": [
      "            Date  Algerian dinar   (DZD)                       \\\n",
      "0     2-Jan-2004                                          NaN   \n",
      "1     5-Jan-2004                                          NaN   \n",
      "2     6-Jan-2004                                          NaN   \n",
      "3     7-Jan-2004                                          NaN   \n",
      "4     8-Jan-2004                                          NaN   \n",
      "...          ...                                          ...   \n",
      "5274         NaN                                          NaN   \n",
      "5275         NaN                                          NaN   \n",
      "5276         NaN                                          NaN   \n",
      "5277         NaN                                          NaN   \n",
      "5278         NaN                                          NaN   \n",
      "\n",
      "      Australian dollar   (AUD)                       \\\n",
      "0                                           0.506604   \n",
      "1                                           0.511372   \n",
      "2                                           0.512311   \n",
      "3                                           0.514296   \n",
      "4                                           0.515618   \n",
      "...                                              ...   \n",
      "5274                                             NaN   \n",
      "5275                                             NaN   \n",
      "5276                                             NaN   \n",
      "5277                                             NaN   \n",
      "5278                                             NaN   \n",
      "\n",
      "      Botswana pula   (BWP)                       \\\n",
      "0                                            NaN   \n",
      "1                                       0.154920   \n",
      "2                                       0.153433   \n",
      "3                                       0.151602   \n",
      "4                                       0.150408   \n",
      "...                                          ...   \n",
      "5274                                         NaN   \n",
      "5275                                         NaN   \n",
      "5276                                         NaN   \n",
      "5277                                         NaN   \n",
      "5278                                         NaN   \n",
      "\n",
      "      Brazilian real   (BRL)                       \\\n",
      "0                                        0.233018   \n",
      "1                                        0.232277   \n",
      "2                                        0.233452   \n",
      "3                                        0.235059   \n",
      "4                                        0.233838   \n",
      "...                                           ...   \n",
      "5274                                          NaN   \n",
      "5275                                          NaN   \n",
      "5276                                          NaN   \n",
      "5277                                          NaN   \n",
      "5278                                          NaN   \n",
      "\n",
      "      Brunei dollar   (BND)                       \\\n",
      "0                                       0.396028   \n",
      "1                                       0.394266   \n",
      "2                                       0.393218   \n",
      "3                                       0.394696   \n",
      "4                                       0.395561   \n",
      "...                                          ...   \n",
      "5274                                         NaN   \n",
      "5275                                         NaN   \n",
      "5276                                         NaN   \n",
      "5277                                         NaN   \n",
      "5278                                         NaN   \n",
      "\n",
      "      Canadian dollar   (CAD)                       \\\n",
      "0                                         0.521743   \n",
      "1                                         0.523480   \n",
      "2                                         0.521192   \n",
      "3                                         0.520042   \n",
      "4                                         0.525074   \n",
      "...                                            ...   \n",
      "5274                                           NaN   \n",
      "5275                                           NaN   \n",
      "5276                                           NaN   \n",
      "5277                                           NaN   \n",
      "5278                                           NaN   \n",
      "\n",
      "      Chilean peso   (CLP)                       \\\n",
      "0                                           NaN   \n",
      "1                                      0.001140   \n",
      "2                                      0.001153   \n",
      "3                                      0.001185   \n",
      "4                                      0.001183   \n",
      "...                                         ...   \n",
      "5274                                        NaN   \n",
      "5275                                        NaN   \n",
      "5276                                        NaN   \n",
      "5277                                        NaN   \n",
      "5278                                        NaN   \n",
      "\n",
      "      Chinese yuan   (CNY)                       \\\n",
      "0                                           NaN   \n",
      "1                                      0.080973   \n",
      "2                                      0.080719   \n",
      "3                                      0.080935   \n",
      "4                                      0.081122   \n",
      "...                                         ...   \n",
      "5274                                        NaN   \n",
      "5275                                        NaN   \n",
      "5276                                        NaN   \n",
      "5277                                        NaN   \n",
      "5278                                        NaN   \n",
      "\n",
      "      Cyprus pound   (CYP)                       ...  \\\n",
      "0                                           NaN  ...   \n",
      "1                                           NaN  ...   \n",
      "2                                           NaN  ...   \n",
      "3                                           NaN  ...   \n",
      "4                                           NaN  ...   \n",
      "...                                         ...  ...   \n",
      "5274                                        NaN  ...   \n",
      "5275                                        NaN  ...   \n",
      "5276                                        NaN  ...   \n",
      "5277                                        NaN  ...   \n",
      "5278                                        NaN  ...   \n",
      "\n",
      "      Slovenian tolar   (SIT)                       \\\n",
      "0                                              NaN   \n",
      "1                                              NaN   \n",
      "2                                              NaN   \n",
      "3                                              NaN   \n",
      "4                                              NaN   \n",
      "...                                            ...   \n",
      "5274                                           NaN   \n",
      "5275                                           NaN   \n",
      "5276                                           NaN   \n",
      "5277                                           NaN   \n",
      "5278                                           NaN   \n",
      "\n",
      "      South African rand   (ZAR)                       \\\n",
      "0                                            0.100831   \n",
      "1                                            0.105379   \n",
      "2                                            0.103184   \n",
      "3                                                 NaN   \n",
      "4                                            0.101124   \n",
      "...                                               ...   \n",
      "5274                                              NaN   \n",
      "5275                                              NaN   \n",
      "5276                                              NaN   \n",
      "5277                                              NaN   \n",
      "5278                                              NaN   \n",
      "\n",
      "      Swedish krona   (SEK)                       \\\n",
      "0                                       0.093479   \n",
      "1                                       0.093605   \n",
      "2                                            NaN   \n",
      "3                                       0.093466   \n",
      "4                                       0.093065   \n",
      "...                                          ...   \n",
      "5274                                         NaN   \n",
      "5275                                         NaN   \n",
      "5276                                         NaN   \n",
      "5277                                         NaN   \n",
      "5278                                         NaN   \n",
      "\n",
      "      Swiss franc   (CHF)                       \\\n",
      "0                                          NaN   \n",
      "1                                     0.544799   \n",
      "2                                     0.543184   \n",
      "3                                     0.540867   \n",
      "4                                     0.538551   \n",
      "...                                        ...   \n",
      "5274                                       NaN   \n",
      "5275                                       NaN   \n",
      "5276                                       NaN   \n",
      "5277                                       NaN   \n",
      "5278                                       NaN   \n",
      "\n",
      "      Thai baht   (THB)                       \\\n",
      "0                                        NaN   \n",
      "1                                   0.017019   \n",
      "2                                   0.017042   \n",
      "3                                   0.017151   \n",
      "4                                   0.017209   \n",
      "...                                      ...   \n",
      "5274                                     NaN   \n",
      "5275                                     NaN   \n",
      "5276                                     NaN   \n",
      "5277                                     NaN   \n",
      "5278                                     NaN   \n",
      "\n",
      "      Trinidadian dollar   (TTD)                       \\\n",
      "0                                                 NaN   \n",
      "1                                                 NaN   \n",
      "2                                            0.106716   \n",
      "3                                            0.106780   \n",
      "4                                                 NaN   \n",
      "...                                               ...   \n",
      "5274                                              NaN   \n",
      "5275                                              NaN   \n",
      "5276                                              NaN   \n",
      "5277                                              NaN   \n",
      "5278                                              NaN   \n",
      "\n",
      "      U.A.E. dirham   (AED)                       \\\n",
      "0                                       0.183267   \n",
      "1                                       0.182495   \n",
      "2                                       0.181924   \n",
      "3                                       0.182415   \n",
      "4                                       0.182836   \n",
      "...                                          ...   \n",
      "5274                                         NaN   \n",
      "5275                                         NaN   \n",
      "5276                                         NaN   \n",
      "5277                                         NaN   \n",
      "5278                                         NaN   \n",
      "\n",
      "      U.K. pound   (GBP)                       \\\n",
      "0                                     1.20193   \n",
      "1                                     1.20611   \n",
      "2                                     1.21657   \n",
      "3                                     1.21523   \n",
      "4                                     1.21683   \n",
      "...                                       ...   \n",
      "5274                                      NaN   \n",
      "5275                                      NaN   \n",
      "5276                                      NaN   \n",
      "5277                                      NaN   \n",
      "5278                                      NaN   \n",
      "\n",
      "      U.S. dollar   (USD)                       \\\n",
      "0                                     0.673049   \n",
      "1                                     0.670212   \n",
      "2                                     0.668116   \n",
      "3                                     0.669918   \n",
      "4                                     0.671465   \n",
      "...                                        ...   \n",
      "5274                                       NaN   \n",
      "5275                                       NaN   \n",
      "5276                                       NaN   \n",
      "5277                                       NaN   \n",
      "5278                                       NaN   \n",
      "\n",
      "      Uruguayan peso   (UYU)                       \n",
      "0                                             NaN  \n",
      "1                                             NaN  \n",
      "2                                             NaN  \n",
      "3                                             NaN  \n",
      "4                                             NaN  \n",
      "...                                           ...  \n",
      "5274                                          NaN  \n",
      "5275                                          NaN  \n",
      "5276                                          NaN  \n",
      "5277                                          NaN  \n",
      "5278                                          NaN  \n",
      "\n",
      "[5279 rows x 43 columns]\n"
     ]
    }
   ],
   "source": [
    "historical_rates_df = pd.read_csv('../historicalrates.csv')\n",
    "print(historical_rates_df)"
   ]
  },
  {
   "cell_type": "code",
   "execution_count": 14,
   "metadata": {},
   "outputs": [
    {
     "name": "stdout",
     "output_type": "stream",
     "text": [
      "Index(['Date', 'DZD', 'AUD', 'BWP', 'BRL', 'BND', 'CAD', 'CLP', 'CNY', 'CYP',\n",
      "       'CZK', 'DKK', 'EEK', 'EUR', 'INR', 'ILS', 'JPY', 'KRW', 'KWD', 'MYR',\n",
      "       'MTL', 'MUR', 'MXN', 'NZD', 'NOK', 'OMR', 'PEN', 'PHP', 'PLN', 'QAR',\n",
      "       'RUB', 'SAR', 'SGD', 'SIT', 'ZAR', 'SEK', 'CHF', 'THB', 'TTD', 'AED',\n",
      "       'GBP', 'USD', 'UYU'],\n",
      "      dtype='object')\n"
     ]
    }
   ],
   "source": [
    "# Function to extract ISO4217 code from column names\n",
    "def extract_iso4217_code(column_name):\n",
    "    if '(' in column_name and ')' in column_name:\n",
    "        return column_name.split('(')[-1].split(')')[0].strip()\n",
    "    return column_name\n",
    "\n",
    "# Apply the function to rename columns, ignoring the 'Date' column\n",
    "historical_rates_df.columns = [extract_iso4217_code(col) if col != 'Date' else col for col in historical_rates_df.columns]\n",
    "\n",
    "print(historical_rates_df.columns)"
   ]
  },
  {
   "cell_type": "code",
   "execution_count": 15,
   "metadata": {},
   "outputs": [
    {
     "name": "stdout",
     "output_type": "stream",
     "text": [
      "            Date  DZD       AUD       BWP       BRL       BND       CAD  \\\n",
      "0     2-Jan-2004  NaN  0.506604       NaN  0.233018  0.396028  0.521743   \n",
      "1     5-Jan-2004  NaN  0.511372  0.154920  0.232277  0.394266  0.523480   \n",
      "2     6-Jan-2004  NaN  0.512311  0.153433  0.233452  0.393218  0.521192   \n",
      "3     7-Jan-2004  NaN  0.514296  0.151602  0.235059  0.394696  0.520042   \n",
      "4     8-Jan-2004  NaN  0.515618  0.150408  0.233838  0.395561  0.525074   \n",
      "...          ...  ...       ...       ...       ...       ...       ...   \n",
      "5274         NaN  NaN       NaN       NaN       NaN       NaN       NaN   \n",
      "5275         NaN  NaN       NaN       NaN       NaN       NaN       NaN   \n",
      "5276         NaN  NaN       NaN       NaN       NaN       NaN       NaN   \n",
      "5277         NaN  NaN       NaN       NaN       NaN       NaN       NaN   \n",
      "5278         NaN  NaN       NaN       NaN       NaN       NaN       NaN   \n",
      "\n",
      "           CLP       CNY  CYP  ...  SIT       ZAR       SEK       CHF  \\\n",
      "0          NaN       NaN  NaN  ...  NaN  0.100831  0.093479       NaN   \n",
      "1     0.001140  0.080973  NaN  ...  NaN  0.105379  0.093605  0.544799   \n",
      "2     0.001153  0.080719  NaN  ...  NaN  0.103184       NaN  0.543184   \n",
      "3     0.001185  0.080935  NaN  ...  NaN       NaN  0.093466  0.540867   \n",
      "4     0.001183  0.081122  NaN  ...  NaN  0.101124  0.093065  0.538551   \n",
      "...        ...       ...  ...  ...  ...       ...       ...       ...   \n",
      "5274       NaN       NaN  NaN  ...  NaN       NaN       NaN       NaN   \n",
      "5275       NaN       NaN  NaN  ...  NaN       NaN       NaN       NaN   \n",
      "5276       NaN       NaN  NaN  ...  NaN       NaN       NaN       NaN   \n",
      "5277       NaN       NaN  NaN  ...  NaN       NaN       NaN       NaN   \n",
      "5278       NaN       NaN  NaN  ...  NaN       NaN       NaN       NaN   \n",
      "\n",
      "           THB       TTD       AED      GBP       USD  UYU  \n",
      "0          NaN       NaN  0.183267  1.20193  0.673049  NaN  \n",
      "1     0.017019       NaN  0.182495  1.20611  0.670212  NaN  \n",
      "2     0.017042  0.106716  0.181924  1.21657  0.668116  NaN  \n",
      "3     0.017151  0.106780  0.182415  1.21523  0.669918  NaN  \n",
      "4     0.017209       NaN  0.182836  1.21683  0.671465  NaN  \n",
      "...        ...       ...       ...      ...       ...  ...  \n",
      "5274       NaN       NaN       NaN      NaN       NaN  NaN  \n",
      "5275       NaN       NaN       NaN      NaN       NaN  NaN  \n",
      "5276       NaN       NaN       NaN      NaN       NaN  NaN  \n",
      "5277       NaN       NaN       NaN      NaN       NaN  NaN  \n",
      "5278       NaN       NaN       NaN      NaN       NaN  NaN  \n",
      "\n",
      "[5279 rows x 43 columns]\n"
     ]
    }
   ],
   "source": [
    "print(historical_rates_df)\n"
   ]
  },
  {
   "cell_type": "code",
   "execution_count": 16,
   "metadata": {},
   "outputs": [],
   "source": [
    "historical_rates_df.to_csv('historical_rates_fixed.csv', index=False)"
   ]
  },
  {
   "cell_type": "code",
   "execution_count": 5,
   "metadata": {},
   "outputs": [
    {
     "name": "stdout",
     "output_type": "stream",
     "text": [
      "[{'name': 'US Dollar', 'alpha': 'USD', 'numeric': 840, 'symbol': '$', 'precision': '2'}, {'name': 'Euro', 'alpha': 'EUR', 'numeric': 978, 'symbol': '€', 'precision': '2'}, {'name': 'UAE Dirham', 'alpha': 'AED', 'numeric': 784, 'symbol': 'د.إ', 'precision': '2'}, {'name': 'Afghani', 'alpha': 'AFN', 'numeric': 971, 'symbol': '؋', 'precision': '2'}, {'name': 'Lek', 'alpha': 'ALL', 'numeric': 8, 'symbol': 'L', 'precision': '2'}, {'name': 'Armenian Dram', 'alpha': 'AMD', 'numeric': 51, 'symbol': '֏', 'precision': '2'}, {'name': 'Netherlands Antillean Guilder', 'alpha': 'ANG', 'numeric': 532, 'symbol': 'ƒ', 'precision': '2'}, {'name': 'Kwanza', 'alpha': 'AOA', 'numeric': 973, 'symbol': 'Kz', 'precision': '2'}, {'name': 'Argentine Peso', 'alpha': 'ARS', 'numeric': 32, 'symbol': '$', 'precision': '2'}, {'name': 'Australian Dollar', 'alpha': 'AUD', 'numeric': 36, 'symbol': '$', 'precision': '2'}, {'name': 'Aruban Florin', 'alpha': 'AWG', 'numeric': 533, 'symbol': 'ƒ', 'precision': '2'}, {'name': 'Azerbaijan Manat', 'alpha': 'AZN', 'numeric': 944, 'symbol': '₼', 'precision': '2'}, {'name': 'Convertible Mark', 'alpha': 'BAM', 'numeric': 977, 'symbol': 'KM', 'precision': '2'}, {'name': 'Barbados Dollar', 'alpha': 'BBD', 'numeric': 52, 'symbol': '$', 'precision': '2'}, {'name': 'Taka', 'alpha': 'BDT', 'numeric': 50, 'symbol': '৳', 'precision': '2'}, {'name': 'Bulgarian Lev', 'alpha': 'BGN', 'numeric': 975, 'symbol': 'лв.', 'precision': '2'}, {'name': 'Bahraini Dinar', 'alpha': 'BHD', 'numeric': 48, 'symbol': '.د.ب', 'precision': '3'}, {'name': 'Burundi Franc', 'alpha': 'BIF', 'numeric': 108, 'symbol': 'Fr', 'precision': '0'}, {'name': 'Bermudian Dollar', 'alpha': 'BMD', 'numeric': 60, 'symbol': '$', 'precision': '2'}, {'name': 'Brunei Dollar', 'alpha': 'BND', 'numeric': 96, 'symbol': '$', 'precision': '2'}, {'name': 'Boliviano', 'alpha': 'BOB', 'numeric': 68, 'symbol': 'Bs.', 'precision': '2'}, {'name': 'Brazilian Real', 'alpha': 'BRL', 'numeric': 986, 'symbol': 'R$', 'precision': '2'}, {'name': 'Bahamian Dollar', 'alpha': 'BSD', 'numeric': 44, 'symbol': '$', 'precision': '2'}, {'name': 'Ngultrum', 'alpha': 'BTN', 'numeric': 64, 'symbol': 'Nu.', 'precision': '2'}, {'name': 'Pula', 'alpha': 'BWP', 'numeric': 72, 'symbol': 'P', 'precision': '2'}, {'name': 'Belarusian Ruble', 'alpha': 'BYN', 'numeric': 933, 'symbol': 'Br', 'precision': '2'}, {'name': 'Belize Dollar', 'alpha': 'BZD', 'numeric': 84, 'symbol': '$', 'precision': '2'}, {'name': 'Canadian Dollar', 'alpha': 'CAD', 'numeric': 124, 'symbol': '$', 'precision': '2'}, {'name': 'Congolese Franc', 'alpha': 'CDF', 'numeric': 976, 'symbol': 'Fr', 'precision': '2'}, {'name': 'Swiss Franc', 'alpha': 'CHF', 'numeric': 756, 'symbol': 'Fr.', 'precision': '2'}, {'name': 'Chilean Peso', 'alpha': 'CLP', 'numeric': 152, 'symbol': '$', 'precision': '0'}, {'name': 'Yuan Renminbi', 'alpha': 'CNY', 'numeric': 156, 'symbol': '¥', 'precision': '2'}, {'name': 'Colombian Peso', 'alpha': 'COP', 'numeric': 170, 'symbol': '$', 'precision': '2'}, {'name': 'Costa Rican Colon', 'alpha': 'CRC', 'numeric': 188, 'symbol': '₡', 'precision': '2'}, {'name': 'Cuban Peso', 'alpha': 'CUP', 'numeric': 192, 'symbol': '$', 'precision': '2'}, {'name': 'Cabo Verde Escudo', 'alpha': 'CVE', 'numeric': 132, 'symbol': '$', 'precision': '2'}, {'name': 'Czech Koruna', 'alpha': 'CZK', 'numeric': 203, 'symbol': 'Kč', 'precision': '2'}, {'name': 'Djibouti Franc', 'alpha': 'DJF', 'numeric': 262, 'symbol': 'Fr', 'precision': '0'}, {'name': 'Danish Krone', 'alpha': 'DKK', 'numeric': 208, 'symbol': 'kr', 'precision': '2'}, {'name': 'Dominican Peso', 'alpha': 'DOP', 'numeric': 214, 'symbol': 'RD$', 'precision': '2'}, {'name': 'Algerian Dinar', 'alpha': 'DZD', 'numeric': 12, 'symbol': 'د.ج', 'precision': '2'}, {'name': 'Egyptian Pound', 'alpha': 'EGP', 'numeric': 818, 'symbol': '£', 'precision': '2'}, {'name': 'Nakfa', 'alpha': 'ERN', 'numeric': 232, 'symbol': 'Nfk', 'precision': '2'}, {'name': 'Ethiopian Birr', 'alpha': 'ETB', 'numeric': 230, 'symbol': 'Br', 'precision': '2'}, {'name': 'Fiji Dollar', 'alpha': 'FJD', 'numeric': 242, 'symbol': '$', 'precision': '2'}, {'name': 'Falkland Islands Pound', 'alpha': 'FKP', 'numeric': 238, 'symbol': '£', 'precision': '2'}, {'name': 'Pound Sterling', 'alpha': 'GBP', 'numeric': 826, 'symbol': '£', 'precision': '2'}, {'name': 'Lari', 'alpha': 'GEL', 'numeric': 981, 'symbol': '₾', 'precision': '2'}, {'name': 'Ghana Cedi', 'alpha': 'GHS', 'numeric': 936, 'symbol': '₵', 'precision': '2'}, {'name': 'Gibraltar Pound', 'alpha': 'GIP', 'numeric': 292, 'symbol': '£', 'precision': '2'}, {'name': 'Dalasi', 'alpha': 'GMD', 'numeric': 270, 'symbol': 'D', 'precision': '2'}, {'name': 'Guinean Franc', 'alpha': 'GNF', 'numeric': 324, 'symbol': 'Fr', 'precision': '0'}, {'name': 'Quetzal', 'alpha': 'GTQ', 'numeric': 320, 'symbol': 'Q', 'precision': '2'}, {'name': 'Guyana Dollar', 'alpha': 'GYD', 'numeric': 328, 'symbol': '$', 'precision': '2'}, {'name': 'Hong Kong Dollar', 'alpha': 'HKD', 'numeric': 344, 'symbol': '$', 'precision': '2'}, {'name': 'Lempira', 'alpha': 'HNL', 'numeric': 340, 'symbol': 'L', 'precision': '2'}, {'name': 'Kuna', 'alpha': 'HRK', 'numeric': 191, 'symbol': 'kn', 'precision': '2'}, {'name': 'Gourde', 'alpha': 'HTG', 'numeric': 332, 'symbol': 'G', 'precision': '2'}, {'name': 'Forint', 'alpha': 'HUF', 'numeric': 348, 'symbol': 'Ft', 'precision': '2'}, {'name': 'Rupiah', 'alpha': 'IDR', 'numeric': 360, 'symbol': 'Rp', 'precision': '2'}, {'name': 'New Israeli Sheqel', 'alpha': 'ILS', 'numeric': 376, 'symbol': '₪', 'precision': '2'}, {'name': 'Indian Rupee', 'alpha': 'INR', 'numeric': 356, 'symbol': '₹', 'precision': '2'}, {'name': 'Iraqi Dinar', 'alpha': 'IQD', 'numeric': 368, 'symbol': 'ع.د', 'precision': '3'}, {'name': 'Iranian Rial', 'alpha': 'IRR', 'numeric': 364, 'symbol': '﷼', 'precision': '2'}, {'name': 'Iceland Krona', 'alpha': 'ISK', 'numeric': 352, 'symbol': 'kr', 'precision': '0'}, {'name': 'Jamaican Dollar', 'alpha': 'JMD', 'numeric': 388, 'symbol': '$', 'precision': '2'}, {'name': 'Jordanian Dinar', 'alpha': 'JOD', 'numeric': 400, 'symbol': 'د.ا', 'precision': '3'}, {'name': 'Yen', 'alpha': 'JPY', 'numeric': 392, 'symbol': '¥', 'precision': '0'}, {'name': 'Kenyan Shilling', 'alpha': 'KES', 'numeric': 404, 'symbol': 'Sh', 'precision': '2'}, {'name': 'Som', 'alpha': 'KGS', 'numeric': 417, 'symbol': 'с', 'precision': '2'}, {'name': 'Riel', 'alpha': 'KHR', 'numeric': 116, 'symbol': '៛', 'precision': '2'}, {'name': 'Comorian Franc', 'alpha': 'KMF', 'numeric': 174, 'symbol': 'Fr', 'precision': '0'}, {'name': 'North Korean Won', 'alpha': 'KPW', 'numeric': 408, 'symbol': '₩', 'precision': '2'}, {'name': 'Won', 'alpha': 'KRW', 'numeric': 410, 'symbol': '₩', 'precision': '0'}, {'name': 'Kuwaiti Dinar', 'alpha': 'KWD', 'numeric': 414, 'symbol': 'د.ك', 'precision': '3'}, {'name': 'Cayman Islands Dollar', 'alpha': 'KYD', 'numeric': 136, 'symbol': '$', 'precision': '2'}, {'name': 'Tenge', 'alpha': 'KZT', 'numeric': 398, 'symbol': '₸', 'precision': '2'}, {'name': 'Lao Kip', 'alpha': 'LAK', 'numeric': 418, 'symbol': '₭', 'precision': '2'}, {'name': 'Lebanese Pound', 'alpha': 'LBP', 'numeric': 422, 'symbol': 'ل.ل', 'precision': '2'}, {'name': 'Sri Lanka Rupee', 'alpha': 'LKR', 'numeric': 144, 'symbol': 'Rs', 'precision': '2'}, {'name': 'Liberian Dollar', 'alpha': 'LRD', 'numeric': 430, 'symbol': '$', 'precision': '2'}, {'name': 'Loti', 'alpha': 'LSL', 'numeric': 426, 'symbol': 'L', 'precision': '2'}, {'name': 'Libyan Dinar', 'alpha': 'LYD', 'numeric': 434, 'symbol': 'ل.د', 'precision': '3'}, {'name': 'Moroccan Dirham', 'alpha': 'MAD', 'numeric': 504, 'symbol': 'د.م.', 'precision': '2'}, {'name': 'Moldovan Leu', 'alpha': 'MDL', 'numeric': 498, 'symbol': 'L', 'precision': '2'}, {'name': 'Malagasy Ariary', 'alpha': 'MGA', 'numeric': 969, 'symbol': 'Ar', 'precision': '2'}, {'name': 'Denar', 'alpha': 'MKD', 'numeric': 807, 'symbol': 'ден', 'precision': '2'}, {'name': 'Kyat', 'alpha': 'MMK', 'numeric': 104, 'symbol': 'Ks', 'precision': '2'}, {'name': 'Tugrik', 'alpha': 'MNT', 'numeric': 496, 'symbol': '₮', 'precision': '2'}, {'name': 'Pataca', 'alpha': 'MOP', 'numeric': 446, 'symbol': 'MOP$', 'precision': '2'}, {'name': 'Ouguiya', 'alpha': 'MRU', 'numeric': 929, 'symbol': 'UM', 'precision': '2'}, {'name': 'Mauritius Rupee', 'alpha': 'MUR', 'numeric': 480, 'symbol': '₨', 'precision': '2'}, {'name': 'Rufiyaa', 'alpha': 'MVR', 'numeric': 462, 'symbol': '.ރ', 'precision': '2'}, {'name': 'Malawi Kwacha', 'alpha': 'MWK', 'numeric': 454, 'symbol': 'MK', 'precision': '2'}, {'name': 'Mexican Peso', 'alpha': 'MXN', 'numeric': 484, 'symbol': '$', 'precision': '2'}, {'name': 'Malaysian Ringgit', 'alpha': 'MYR', 'numeric': 458, 'symbol': 'RM', 'precision': '2'}, {'name': 'Mozambique Metical', 'alpha': 'MZN', 'numeric': 943, 'symbol': 'MT', 'precision': '2'}, {'name': 'Namibia Dollar', 'alpha': 'NAD', 'numeric': 516, 'symbol': '$', 'precision': '2'}, {'name': 'Naira', 'alpha': 'NGN', 'numeric': 566, 'symbol': '₦', 'precision': '2'}, {'name': 'Cordoba Oro', 'alpha': 'NIO', 'numeric': 558, 'symbol': 'C$', 'precision': '2'}, {'name': 'Norwegian Krone', 'alpha': 'NOK', 'numeric': 578, 'symbol': 'kr', 'precision': '2'}, {'name': 'Nepalese Rupee', 'alpha': 'NPR', 'numeric': 524, 'symbol': 'रू', 'precision': '2'}, {'name': 'New Zealand Dollar', 'alpha': 'NZD', 'numeric': 554, 'symbol': '$', 'precision': '2'}, {'name': 'Rial Omani', 'alpha': 'OMR', 'numeric': 512, 'symbol': 'ر.ع.', 'precision': '3'}, {'name': 'Balboa', 'alpha': 'PAB', 'numeric': 590, 'symbol': 'B/.', 'precision': '2'}, {'name': 'Sol', 'alpha': 'PEN', 'numeric': 604, 'symbol': 'S/.', 'precision': '2'}, {'name': 'Kina', 'alpha': 'PGK', 'numeric': 598, 'symbol': 'K', 'precision': '2'}, {'name': 'Philippine Peso', 'alpha': 'PHP', 'numeric': 608, 'symbol': '₱', 'precision': '2'}, {'name': 'Pakistan Rupee', 'alpha': 'PKR', 'numeric': 586, 'symbol': '₨', 'precision': '2'}, {'name': 'Zloty', 'alpha': 'PLN', 'numeric': 985, 'symbol': 'zł', 'precision': '2'}, {'name': 'Guarani', 'alpha': 'PYG', 'numeric': 600, 'symbol': '₲', 'precision': '0'}, {'name': 'Qatari Rial', 'alpha': 'QAR', 'numeric': 634, 'symbol': 'ر.ق', 'precision': '2'}, {'name': 'Romanian Leu', 'alpha': 'RON', 'numeric': 946, 'symbol': 'lei', 'precision': '2'}, {'name': 'Serbian Dinar', 'alpha': 'RSD', 'numeric': 941, 'symbol': 'дин.', 'precision': '2'}, {'name': 'Russian Ruble', 'alpha': 'RUB', 'numeric': 643, 'symbol': '₽', 'precision': '2'}, {'name': 'Rwanda Franc', 'alpha': 'RWF', 'numeric': 646, 'symbol': 'Fr', 'precision': '0'}, {'name': 'Saudi Riyal', 'alpha': 'SAR', 'numeric': 682, 'symbol': '﷼', 'precision': '2'}, {'name': 'Solomon Islands Dollar', 'alpha': 'SBD', 'numeric': 90, 'symbol': '$', 'precision': '2'}, {'name': 'Seychelles Rupee', 'alpha': 'SCR', 'numeric': 690, 'symbol': '₨', 'precision': '2'}, {'name': 'Sudanese Pound', 'alpha': 'SDG', 'numeric': 938, 'symbol': 'ج.س.', 'precision': '2'}, {'name': 'Swedish Krona', 'alpha': 'SEK', 'numeric': 752, 'symbol': 'kr', 'precision': '2'}, {'name': 'Singapore Dollar', 'alpha': 'SGD', 'numeric': 702, 'symbol': '$', 'precision': '2'}, {'name': 'Saint Helena Pound', 'alpha': 'SHP', 'numeric': 654, 'symbol': '£', 'precision': '2'}, {'name': 'Leone', 'alpha': 'SLL', 'numeric': 694, 'symbol': 'Le', 'precision': '2'}, {'name': 'Somali Shilling', 'alpha': 'SOS', 'numeric': 706, 'symbol': 'Sh', 'precision': '2'}, {'name': 'Surinam Dollar', 'alpha': 'SRD', 'numeric': 968, 'symbol': '$', 'precision': '2'}, {'name': 'South Sudanese Pound', 'alpha': 'SSP', 'numeric': 728, 'symbol': '£', 'precision': '2'}, {'name': 'Dobra', 'alpha': 'STN', 'numeric': 930, 'symbol': 'Db', 'precision': '2'}, {'name': 'Syrian Pound', 'alpha': 'SYP', 'numeric': 760, 'symbol': '£', 'precision': '2'}, {'name': 'Lilangeni', 'alpha': 'SZL', 'numeric': 748, 'symbol': 'L', 'precision': '2'}, {'name': 'Baht', 'alpha': 'THB', 'numeric': 764, 'symbol': '฿', 'precision': '2'}, {'name': 'Somoni', 'alpha': 'TJS', 'numeric': 972, 'symbol': 'с.', 'precision': '2'}, {'name': 'Turkmenistan New Manat', 'alpha': 'TMT', 'numeric': 934, 'symbol': 'm.', 'precision': '2'}, {'name': 'Tunisian Dinar', 'alpha': 'TND', 'numeric': 788, 'symbol': 'د.ت', 'precision': '3'}, {'name': 'Pa’anga', 'alpha': 'TOP', 'numeric': 776, 'symbol': 'T$', 'precision': '2'}, {'name': 'Turkish Lira', 'alpha': 'TRY', 'numeric': 949, 'symbol': '₺', 'precision': '2'}, {'name': 'Trinidad and Tobago Dollar', 'alpha': 'TTD', 'numeric': 780, 'symbol': '$', 'precision': '2'}, {'name': 'New Taiwan Dollar', 'alpha': 'TWD', 'numeric': 901, 'symbol': '$', 'precision': '2'}, {'name': 'Tanzanian Shilling', 'alpha': 'TZS', 'numeric': 834, 'symbol': 'Sh', 'precision': '2'}, {'name': 'Hryvnia', 'alpha': 'UAH', 'numeric': 980, 'symbol': '₴', 'precision': '2'}, {'name': 'Uganda Shilling', 'alpha': 'UGX', 'numeric': 800, 'symbol': 'Sh', 'precision': '0'}, {'name': 'Peso Uruguayo', 'alpha': 'UYU', 'numeric': 858, 'symbol': '$', 'precision': '2'}, {'name': 'Uzbekistan Sum', 'alpha': 'UZS', 'numeric': 860, 'symbol': 'Sʻ', 'precision': '2'}, {'name': 'Bolívar Soberano', 'alpha': 'VES', 'numeric': 928, 'symbol': 'Bs.', 'precision': '2'}, {'name': 'Dong', 'alpha': 'VND', 'numeric': 704, 'symbol': '₫', 'precision': '0'}, {'name': 'Vatu', 'alpha': 'VUV', 'numeric': 548, 'symbol': 'Vt', 'precision': '0'}, {'name': 'Tala', 'alpha': 'WST', 'numeric': 882, 'symbol': 'T', 'precision': '2'}, {'name': 'CFA Franc BEAC', 'alpha': 'XAF', 'numeric': 950, 'symbol': 'Fr', 'precision': '0'}, {'name': 'East Caribbean Dollar', 'alpha': 'XCD', 'numeric': 951, 'symbol': '$', 'precision': '2'}, {'name': 'CFA Franc BCEAO', 'alpha': 'XOF', 'numeric': 952, 'symbol': 'Fr', 'precision': '0'}, {'name': 'CFP Franc', 'alpha': 'XPF', 'numeric': 953, 'symbol': '₣', 'precision': '0'}, {'name': 'Yemeni Rial', 'alpha': 'YER', 'numeric': 886, 'symbol': '﷼', 'precision': '2'}, {'name': 'Rand', 'alpha': 'ZAR', 'numeric': 710, 'symbol': 'R', 'precision': '2'}, {'name': 'Zambian Kwacha', 'alpha': 'ZMW', 'numeric': 967, 'symbol': 'ZK', 'precision': '2'}, {'name': 'Zimbabwe Dollar', 'alpha': 'ZWL', 'numeric': 932, 'symbol': '$', 'precision': '2'}]\n"
     ]
    }
   ],
   "source": [
    "import json\n",
    "\n",
    "filename = \"currencies.json\"\n",
    "with open(filename, \"r\") as file:\n",
    "\tcurrencies = json.load(file)\n",
    "\n",
    "print(currencies)"
   ]
  },
  {
   "cell_type": "code",
   "execution_count": 6,
   "metadata": {},
   "outputs": [
    {
     "name": "stdout",
     "output_type": "stream",
     "text": [
      "{'USD': '$', 'EUR': '€', 'AED': 'د.إ', 'AFN': '؋', 'ALL': 'L', 'AMD': '֏', 'ANG': 'ƒ', 'AOA': 'Kz', 'ARS': '$', 'AUD': '$', 'AWG': 'ƒ', 'AZN': '₼', 'BAM': 'KM', 'BBD': '$', 'BDT': '৳', 'BGN': 'лв.', 'BHD': '.د.ب', 'BIF': 'Fr', 'BMD': '$', 'BND': '$', 'BOB': 'Bs.', 'BRL': 'R$', 'BSD': '$', 'BTN': 'Nu.', 'BWP': 'P', 'BYN': 'Br', 'BZD': '$', 'CAD': '$', 'CDF': 'Fr', 'CHF': 'Fr.', 'CLP': '$', 'CNY': '¥', 'COP': '$', 'CRC': '₡', 'CUP': '$', 'CVE': '$', 'CZK': 'Kč', 'DJF': 'Fr', 'DKK': 'kr', 'DOP': 'RD$', 'DZD': 'د.ج', 'EGP': '£', 'ERN': 'Nfk', 'ETB': 'Br', 'FJD': '$', 'FKP': '£', 'GBP': '£', 'GEL': '₾', 'GHS': '₵', 'GIP': '£', 'GMD': 'D', 'GNF': 'Fr', 'GTQ': 'Q', 'GYD': '$', 'HKD': '$', 'HNL': 'L', 'HRK': 'kn', 'HTG': 'G', 'HUF': 'Ft', 'IDR': 'Rp', 'ILS': '₪', 'INR': '₹', 'IQD': 'ع.د', 'IRR': '﷼', 'ISK': 'kr', 'JMD': '$', 'JOD': 'د.ا', 'JPY': '¥', 'KES': 'Sh', 'KGS': 'с', 'KHR': '៛', 'KMF': 'Fr', 'KPW': '₩', 'KRW': '₩', 'KWD': 'د.ك', 'KYD': '$', 'KZT': '₸', 'LAK': '₭', 'LBP': 'ل.ل', 'LKR': 'Rs', 'LRD': '$', 'LSL': 'L', 'LYD': 'ل.د', 'MAD': 'د.م.', 'MDL': 'L', 'MGA': 'Ar', 'MKD': 'ден', 'MMK': 'Ks', 'MNT': '₮', 'MOP': 'MOP$', 'MRU': 'UM', 'MUR': '₨', 'MVR': '.ރ', 'MWK': 'MK', 'MXN': '$', 'MYR': 'RM', 'MZN': 'MT', 'NAD': '$', 'NGN': '₦', 'NIO': 'C$', 'NOK': 'kr', 'NPR': 'रू', 'NZD': '$', 'OMR': 'ر.ع.', 'PAB': 'B/.', 'PEN': 'S/.', 'PGK': 'K', 'PHP': '₱', 'PKR': '₨', 'PLN': 'zł', 'PYG': '₲', 'QAR': 'ر.ق', 'RON': 'lei', 'RSD': 'дин.', 'RUB': '₽', 'RWF': 'Fr', 'SAR': '﷼', 'SBD': '$', 'SCR': '₨', 'SDG': 'ج.س.', 'SEK': 'kr', 'SGD': '$', 'SHP': '£', 'SLL': 'Le', 'SOS': 'Sh', 'SRD': '$', 'SSP': '£', 'STN': 'Db', 'SYP': '£', 'SZL': 'L', 'THB': '฿', 'TJS': 'с.', 'TMT': 'm.', 'TND': 'د.ت', 'TOP': 'T$', 'TRY': '₺', 'TTD': '$', 'TWD': '$', 'TZS': 'Sh', 'UAH': '₴', 'UGX': 'Sh', 'UYU': '$', 'UZS': 'Sʻ', 'VES': 'Bs.', 'VND': '₫', 'VUV': 'Vt', 'WST': 'T', 'XAF': 'Fr', 'XCD': '$', 'XOF': 'Fr', 'XPF': '₣', 'YER': '﷼', 'ZAR': 'R', 'ZMW': 'ZK', 'ZWL': '$'}\n"
     ]
    }
   ],
   "source": [
    "currency_symbol_dict = {currency['alpha']: currency['symbol'] for currency in currencies}\n",
    "print(currency_symbol_dict)"
   ]
  },
  {
   "cell_type": "code",
   "execution_count": 1,
   "metadata": {},
   "outputs": [
    {
     "name": "stdout",
     "output_type": "stream",
     "text": [
      "{'countries': {'country': [{'countryCode': 'AD', 'countryName': 'Andorra', 'currencyCode': 'EUR', 'population': '84000', 'capital': 'Andorra la Vella', 'continentName': 'Europe'}, {'countryCode': 'AE', 'countryName': 'United Arab Emirates', 'currencyCode': 'AED', 'population': '4975593', 'capital': 'Abu Dhabi', 'continentName': 'Asia'}, {'countryCode': 'AF', 'countryName': 'Afghanistan', 'currencyCode': 'AFN', 'population': '29121286', 'capital': 'Kabul', 'continentName': 'Asia'}, {'countryCode': 'AG', 'countryName': 'Antigua and Barbuda', 'currencyCode': 'XCD', 'population': '86754', 'capital': \"St. John's\", 'continentName': 'North America'}, {'countryCode': 'AI', 'countryName': 'Anguilla', 'currencyCode': 'XCD', 'population': '13254', 'capital': 'The Valley', 'continentName': 'North America'}, {'countryCode': 'AL', 'countryName': 'Albania', 'currencyCode': 'ALL', 'population': '2986952', 'capital': 'Tirana', 'continentName': 'Europe'}, {'countryCode': 'AM', 'countryName': 'Armenia', 'currencyCode': 'AMD', 'population': '2968000', 'capital': 'Yerevan', 'continentName': 'Asia'}, {'countryCode': 'AO', 'countryName': 'Angola', 'currencyCode': 'AOA', 'population': '13068161', 'capital': 'Luanda', 'continentName': 'Africa'}, {'countryCode': 'AQ', 'countryName': 'Antarctica', 'currencyCode': '', 'population': '0', 'capital': '', 'continentName': 'Antarctica'}, {'countryCode': 'AR', 'countryName': 'Argentina', 'currencyCode': 'ARS', 'population': '41343201', 'capital': 'Buenos Aires', 'continentName': 'South America'}, {'countryCode': 'AS', 'countryName': 'American Samoa', 'currencyCode': 'USD', 'population': '57881', 'capital': 'Pago Pago', 'continentName': 'Oceania'}, {'countryCode': 'AT', 'countryName': 'Austria', 'currencyCode': 'EUR', 'population': '8205000', 'capital': 'Vienna', 'continentName': 'Europe'}, {'countryCode': 'AU', 'countryName': 'Australia', 'currencyCode': 'AUD', 'population': '21515754', 'capital': 'Canberra', 'continentName': 'Oceania'}, {'countryCode': 'AW', 'countryName': 'Aruba', 'currencyCode': 'AWG', 'population': '71566', 'capital': 'Oranjestad', 'continentName': 'North America'}, {'countryCode': 'AX', 'countryName': 'Ã…land', 'currencyCode': 'EUR', 'population': '26711', 'capital': 'Mariehamn', 'continentName': 'Europe'}, {'countryCode': 'AZ', 'countryName': 'Azerbaijan', 'currencyCode': 'AZN', 'population': '8303512', 'capital': 'Baku', 'continentName': 'Asia'}, {'countryCode': 'BA', 'countryName': 'Bosnia and Herzegovina', 'currencyCode': 'BAM', 'population': '4590000', 'capital': 'Sarajevo', 'continentName': 'Europe'}, {'countryCode': 'BB', 'countryName': 'Barbados', 'currencyCode': 'BBD', 'population': '285653', 'capital': 'Bridgetown', 'continentName': 'North America'}, {'countryCode': 'BD', 'countryName': 'Bangladesh', 'currencyCode': 'BDT', 'population': '156118464', 'capital': 'Dhaka', 'continentName': 'Asia'}, {'countryCode': 'BE', 'countryName': 'Belgium', 'currencyCode': 'EUR', 'population': '10403000', 'capital': 'Brussels', 'continentName': 'Europe'}, {'countryCode': 'BF', 'countryName': 'Burkina Faso', 'currencyCode': 'XOF', 'population': '16241811', 'capital': 'Ouagadougou', 'continentName': 'Africa'}, {'countryCode': 'BG', 'countryName': 'Bulgaria', 'currencyCode': 'BGN', 'population': '7148785', 'capital': 'Sofia', 'continentName': 'Europe'}, {'countryCode': 'BH', 'countryName': 'Bahrain', 'currencyCode': 'BHD', 'population': '738004', 'capital': 'Manama', 'continentName': 'Asia'}, {'countryCode': 'BI', 'countryName': 'Burundi', 'currencyCode': 'BIF', 'population': '9863117', 'capital': 'Bujumbura', 'continentName': 'Africa'}, {'countryCode': 'BJ', 'countryName': 'Benin', 'currencyCode': 'XOF', 'population': '9056010', 'capital': 'Porto-Novo', 'continentName': 'Africa'}, {'countryCode': 'BL', 'countryName': 'Saint BarthÃ©lemy', 'currencyCode': 'EUR', 'population': '8450', 'capital': 'Gustavia', 'continentName': 'North America'}, {'countryCode': 'BM', 'countryName': 'Bermuda', 'currencyCode': 'BMD', 'population': '65365', 'capital': 'Hamilton', 'continentName': 'North America'}, {'countryCode': 'BN', 'countryName': 'Brunei', 'currencyCode': 'BND', 'population': '395027', 'capital': 'Bandar Seri Begawan', 'continentName': 'Asia'}, {'countryCode': 'BO', 'countryName': 'Bolivia', 'currencyCode': 'BOB', 'population': '9947418', 'capital': 'Sucre', 'continentName': 'South America'}, {'countryCode': 'BQ', 'countryName': 'Bonaire', 'currencyCode': 'USD', 'population': '18012', 'capital': 'Kralendijk', 'continentName': 'North America'}, {'countryCode': 'BR', 'countryName': 'Brazil', 'currencyCode': 'BRL', 'population': '201103330', 'capital': 'BrasÃ\\xadlia', 'continentName': 'South America'}, {'countryCode': 'BS', 'countryName': 'Bahamas', 'currencyCode': 'BSD', 'population': '301790', 'capital': 'Nassau', 'continentName': 'North America'}, {'countryCode': 'BT', 'countryName': 'Bhutan', 'currencyCode': 'BTN', 'population': '699847', 'capital': 'Thimphu', 'continentName': 'Asia'}, {'countryCode': 'BV', 'countryName': 'Bouvet Island', 'currencyCode': 'NOK', 'population': '0', 'capital': '', 'continentName': 'Antarctica'}, {'countryCode': 'BW', 'countryName': 'Botswana', 'currencyCode': 'BWP', 'population': '2029307', 'capital': 'Gaborone', 'continentName': 'Africa'}, {'countryCode': 'BY', 'countryName': 'Belarus', 'currencyCode': 'BYR', 'population': '9685000', 'capital': 'Minsk', 'continentName': 'Europe'}, {'countryCode': 'BZ', 'countryName': 'Belize', 'currencyCode': 'BZD', 'population': '314522', 'capital': 'Belmopan', 'continentName': 'North America'}, {'countryCode': 'CA', 'countryName': 'Canada', 'currencyCode': 'CAD', 'population': '33679000', 'capital': 'Ottawa', 'continentName': 'North America'}, {'countryCode': 'CC', 'countryName': 'Cocos [Keeling] Islands', 'currencyCode': 'AUD', 'population': '628', 'capital': 'West Island', 'continentName': 'Asia'}, {'countryCode': 'CD', 'countryName': 'Democratic Republic of the Congo', 'currencyCode': 'CDF', 'population': '70916439', 'capital': 'Kinshasa', 'continentName': 'Africa'}, {'countryCode': 'CF', 'countryName': 'Central African Republic', 'currencyCode': 'XAF', 'population': '4844927', 'capital': 'Bangui', 'continentName': 'Africa'}, {'countryCode': 'CG', 'countryName': 'Republic of the Congo', 'currencyCode': 'XAF', 'population': '3039126', 'capital': 'Brazzaville', 'continentName': 'Africa'}, {'countryCode': 'CH', 'countryName': 'Switzerland', 'currencyCode': 'CHF', 'population': '7581000', 'capital': 'Bern', 'continentName': 'Europe'}, {'countryCode': 'CI', 'countryName': 'Ivory Coast', 'currencyCode': 'XOF', 'population': '21058798', 'capital': 'Yamoussoukro', 'continentName': 'Africa'}, {'countryCode': 'CK', 'countryName': 'Cook Islands', 'currencyCode': 'NZD', 'population': '21388', 'capital': 'Avarua', 'continentName': 'Oceania'}, {'countryCode': 'CL', 'countryName': 'Chile', 'currencyCode': 'CLP', 'population': '16746491', 'capital': 'Santiago', 'continentName': 'South America'}, {'countryCode': 'CM', 'countryName': 'Cameroon', 'currencyCode': 'XAF', 'population': '19294149', 'capital': 'YaoundÃ©', 'continentName': 'Africa'}, {'countryCode': 'CN', 'countryName': 'China', 'currencyCode': 'CNY', 'population': '1330044000', 'capital': 'Beijing', 'continentName': 'Asia'}, {'countryCode': 'CO', 'countryName': 'Colombia', 'currencyCode': 'COP', 'population': '47790000', 'capital': 'BogotÃ¡', 'continentName': 'South America'}, {'countryCode': 'CR', 'countryName': 'Costa Rica', 'currencyCode': 'CRC', 'population': '4516220', 'capital': 'San JosÃ©', 'continentName': 'North America'}, {'countryCode': 'CU', 'countryName': 'Cuba', 'currencyCode': 'CUP', 'population': '11423000', 'capital': 'Havana', 'continentName': 'North America'}, {'countryCode': 'CV', 'countryName': 'Cape Verde', 'currencyCode': 'CVE', 'population': '508659', 'capital': 'Praia', 'continentName': 'Africa'}, {'countryCode': 'CW', 'countryName': 'Curacao', 'currencyCode': 'ANG', 'population': '141766', 'capital': 'Willemstad', 'continentName': 'North America'}, {'countryCode': 'CX', 'countryName': 'Christmas Island', 'currencyCode': 'AUD', 'population': '1500', 'capital': 'Flying Fish Cove', 'continentName': 'Asia'}, {'countryCode': 'CY', 'countryName': 'Cyprus', 'currencyCode': 'EUR', 'population': '1102677', 'capital': 'Nicosia', 'continentName': 'Europe'}, {'countryCode': 'CZ', 'countryName': 'Czechia', 'currencyCode': 'CZK', 'population': '10476000', 'capital': 'Prague', 'continentName': 'Europe'}, {'countryCode': 'DE', 'countryName': 'Germany', 'currencyCode': 'EUR', 'population': '81802257', 'capital': 'Berlin', 'continentName': 'Europe'}, {'countryCode': 'DJ', 'countryName': 'Djibouti', 'currencyCode': 'DJF', 'population': '740528', 'capital': 'Djibouti', 'continentName': 'Africa'}, {'countryCode': 'DK', 'countryName': 'Denmark', 'currencyCode': 'DKK', 'population': '5484000', 'capital': 'Copenhagen', 'continentName': 'Europe'}, {'countryCode': 'DM', 'countryName': 'Dominica', 'currencyCode': 'XCD', 'population': '72813', 'capital': 'Roseau', 'continentName': 'North America'}, {'countryCode': 'DO', 'countryName': 'Dominican Republic', 'currencyCode': 'DOP', 'population': '9823821', 'capital': 'Santo Domingo', 'continentName': 'North America'}, {'countryCode': 'DZ', 'countryName': 'Algeria', 'currencyCode': 'DZD', 'population': '34586184', 'capital': 'Algiers', 'continentName': 'Africa'}, {'countryCode': 'EC', 'countryName': 'Ecuador', 'currencyCode': 'USD', 'population': '14790608', 'capital': 'Quito', 'continentName': 'South America'}, {'countryCode': 'EE', 'countryName': 'Estonia', 'currencyCode': 'EUR', 'population': '1291170', 'capital': 'Tallinn', 'continentName': 'Europe'}, {'countryCode': 'EG', 'countryName': 'Egypt', 'currencyCode': 'EGP', 'population': '80471869', 'capital': 'Cairo', 'continentName': 'Africa'}, {'countryCode': 'EH', 'countryName': 'Western Sahara', 'currencyCode': 'MAD', 'population': '273008', 'capital': 'LaÃ¢youne / El AaiÃºn', 'continentName': 'Africa'}, {'countryCode': 'ER', 'countryName': 'Eritrea', 'currencyCode': 'ERN', 'population': '5792984', 'capital': 'Asmara', 'continentName': 'Africa'}, {'countryCode': 'ES', 'countryName': 'Spain', 'currencyCode': 'EUR', 'population': '46505963', 'capital': 'Madrid', 'continentName': 'Europe'}, {'countryCode': 'ET', 'countryName': 'Ethiopia', 'currencyCode': 'ETB', 'population': '88013491', 'capital': 'Addis Ababa', 'continentName': 'Africa'}, {'countryCode': 'FI', 'countryName': 'Finland', 'currencyCode': 'EUR', 'population': '5244000', 'capital': 'Helsinki', 'continentName': 'Europe'}, {'countryCode': 'FJ', 'countryName': 'Fiji', 'currencyCode': 'FJD', 'population': '875983', 'capital': 'Suva', 'continentName': 'Oceania'}, {'countryCode': 'FK', 'countryName': 'Falkland Islands', 'currencyCode': 'FKP', 'population': '2638', 'capital': 'Stanley', 'continentName': 'South America'}, {'countryCode': 'FM', 'countryName': 'Micronesia', 'currencyCode': 'USD', 'population': '107708', 'capital': 'Palikir', 'continentName': 'Oceania'}, {'countryCode': 'FO', 'countryName': 'Faroe Islands', 'currencyCode': 'DKK', 'population': '48228', 'capital': 'TÃ³rshavn', 'continentName': 'Europe'}, {'countryCode': 'FR', 'countryName': 'France', 'currencyCode': 'EUR', 'population': '64768389', 'capital': 'Paris', 'continentName': 'Europe'}, {'countryCode': 'GA', 'countryName': 'Gabon', 'currencyCode': 'XAF', 'population': '1545255', 'capital': 'Libreville', 'continentName': 'Africa'}, {'countryCode': 'GB', 'countryName': 'United Kingdom', 'currencyCode': 'GBP', 'population': '62348447', 'capital': 'London', 'continentName': 'Europe'}, {'countryCode': 'GD', 'countryName': 'Grenada', 'currencyCode': 'XCD', 'population': '107818', 'capital': \"St. George's\", 'continentName': 'North America'}, {'countryCode': 'GE', 'countryName': 'Georgia', 'currencyCode': 'GEL', 'population': '4630000', 'capital': 'Tbilisi', 'continentName': 'Asia'}, {'countryCode': 'GF', 'countryName': 'French Guiana', 'currencyCode': 'EUR', 'population': '195506', 'capital': 'Cayenne', 'continentName': 'South America'}, {'countryCode': 'GG', 'countryName': 'Guernsey', 'currencyCode': 'GBP', 'population': '65228', 'capital': 'St Peter Port', 'continentName': 'Europe'}, {'countryCode': 'GH', 'countryName': 'Ghana', 'currencyCode': 'GHS', 'population': '24339838', 'capital': 'Accra', 'continentName': 'Africa'}, {'countryCode': 'GI', 'countryName': 'Gibraltar', 'currencyCode': 'GIP', 'population': '27884', 'capital': 'Gibraltar', 'continentName': 'Europe'}, {'countryCode': 'GL', 'countryName': 'Greenland', 'currencyCode': 'DKK', 'population': '56375', 'capital': 'Nuuk', 'continentName': 'North America'}, {'countryCode': 'GM', 'countryName': 'Gambia', 'currencyCode': 'GMD', 'population': '1593256', 'capital': 'Bathurst', 'continentName': 'Africa'}, {'countryCode': 'GN', 'countryName': 'Guinea', 'currencyCode': 'GNF', 'population': '10324025', 'capital': 'Conakry', 'continentName': 'Africa'}, {'countryCode': 'GP', 'countryName': 'Guadeloupe', 'currencyCode': 'EUR', 'population': '443000', 'capital': 'Basse-Terre', 'continentName': 'North America'}, {'countryCode': 'GQ', 'countryName': 'Equatorial Guinea', 'currencyCode': 'XAF', 'population': '1014999', 'capital': 'Malabo', 'continentName': 'Africa'}, {'countryCode': 'GR', 'countryName': 'Greece', 'currencyCode': 'EUR', 'population': '11000000', 'capital': 'Athens', 'continentName': 'Europe'}, {'countryCode': 'GS', 'countryName': 'South Georgia and the South Sandwich Islands', 'currencyCode': 'GBP', 'population': '30', 'capital': 'Grytviken', 'continentName': 'Antarctica'}, {'countryCode': 'GT', 'countryName': 'Guatemala', 'currencyCode': 'GTQ', 'population': '13550440', 'capital': 'Guatemala City', 'continentName': 'North America'}, {'countryCode': 'GU', 'countryName': 'Guam', 'currencyCode': 'USD', 'population': '159358', 'capital': 'HagÃ¥tÃ±a', 'continentName': 'Oceania'}, {'countryCode': 'GW', 'countryName': 'Guinea-Bissau', 'currencyCode': 'XOF', 'population': '1565126', 'capital': 'Bissau', 'continentName': 'Africa'}, {'countryCode': 'GY', 'countryName': 'Guyana', 'currencyCode': 'GYD', 'population': '748486', 'capital': 'Georgetown', 'continentName': 'South America'}, {'countryCode': 'HK', 'countryName': 'Hong Kong', 'currencyCode': 'HKD', 'population': '6898686', 'capital': 'Hong Kong', 'continentName': 'Asia'}, {'countryCode': 'HM', 'countryName': 'Heard Island and McDonald Islands', 'currencyCode': 'AUD', 'population': '0', 'capital': '', 'continentName': 'Antarctica'}, {'countryCode': 'HN', 'countryName': 'Honduras', 'currencyCode': 'HNL', 'population': '7989415', 'capital': 'Tegucigalpa', 'continentName': 'North America'}, {'countryCode': 'HR', 'countryName': 'Croatia', 'currencyCode': 'HRK', 'population': '4284889', 'capital': 'Zagreb', 'continentName': 'Europe'}, {'countryCode': 'HT', 'countryName': 'Haiti', 'currencyCode': 'HTG', 'population': '9648924', 'capital': 'Port-au-Prince', 'continentName': 'North America'}, {'countryCode': 'HU', 'countryName': 'Hungary', 'currencyCode': 'HUF', 'population': '9982000', 'capital': 'Budapest', 'continentName': 'Europe'}, {'countryCode': 'ID', 'countryName': 'Indonesia', 'currencyCode': 'IDR', 'population': '242968342', 'capital': 'Jakarta', 'continentName': 'Asia'}, {'countryCode': 'IE', 'countryName': 'Ireland', 'currencyCode': 'EUR', 'population': '4622917', 'capital': 'Dublin', 'continentName': 'Europe'}, {'countryCode': 'IL', 'countryName': 'Israel', 'currencyCode': 'ILS', 'population': '7353985', 'capital': '', 'continentName': 'Asia'}, {'countryCode': 'IM', 'countryName': 'Isle of Man', 'currencyCode': 'GBP', 'population': '75049', 'capital': 'Douglas', 'continentName': 'Europe'}, {'countryCode': 'IN', 'countryName': 'India', 'currencyCode': 'INR', 'population': '1173108018', 'capital': 'New Delhi', 'continentName': 'Asia'}, {'countryCode': 'IO', 'countryName': 'British Indian Ocean Territory', 'currencyCode': 'USD', 'population': '4000', 'capital': '', 'continentName': 'Asia'}, {'countryCode': 'IQ', 'countryName': 'Iraq', 'currencyCode': 'IQD', 'population': '29671605', 'capital': 'Baghdad', 'continentName': 'Asia'}, {'countryCode': 'IR', 'countryName': 'Iran', 'currencyCode': 'IRR', 'population': '76923300', 'capital': 'Tehran', 'continentName': 'Asia'}, {'countryCode': 'IS', 'countryName': 'Iceland', 'currencyCode': 'ISK', 'population': '308910', 'capital': 'Reykjavik', 'continentName': 'Europe'}, {'countryCode': 'IT', 'countryName': 'Italy', 'currencyCode': 'EUR', 'population': '60340328', 'capital': 'Rome', 'continentName': 'Europe'}, {'countryCode': 'JE', 'countryName': 'Jersey', 'currencyCode': 'GBP', 'population': '90812', 'capital': 'Saint Helier', 'continentName': 'Europe'}, {'countryCode': 'JM', 'countryName': 'Jamaica', 'currencyCode': 'JMD', 'population': '2847232', 'capital': 'Kingston', 'continentName': 'North America'}, {'countryCode': 'JO', 'countryName': 'Jordan', 'currencyCode': 'JOD', 'population': '6407085', 'capital': 'Amman', 'continentName': 'Asia'}, {'countryCode': 'JP', 'countryName': 'Japan', 'currencyCode': 'JPY', 'population': '127288000', 'capital': 'Tokyo', 'continentName': 'Asia'}, {'countryCode': 'KE', 'countryName': 'Kenya', 'currencyCode': 'KES', 'population': '40046566', 'capital': 'Nairobi', 'continentName': 'Africa'}, {'countryCode': 'KG', 'countryName': 'Kyrgyzstan', 'currencyCode': 'KGS', 'population': '5776500', 'capital': 'Bishkek', 'continentName': 'Asia'}, {'countryCode': 'KH', 'countryName': 'Cambodia', 'currencyCode': 'KHR', 'population': '14453680', 'capital': 'Phnom Penh', 'continentName': 'Asia'}, {'countryCode': 'KI', 'countryName': 'Kiribati', 'currencyCode': 'AUD', 'population': '92533', 'capital': 'Tarawa', 'continentName': 'Oceania'}, {'countryCode': 'KM', 'countryName': 'Comoros', 'currencyCode': 'KMF', 'population': '773407', 'capital': 'Moroni', 'continentName': 'Africa'}, {'countryCode': 'KN', 'countryName': 'Saint Kitts and Nevis', 'currencyCode': 'XCD', 'population': '51134', 'capital': 'Basseterre', 'continentName': 'North America'}, {'countryCode': 'KP', 'countryName': 'North Korea', 'currencyCode': 'KPW', 'population': '22912177', 'capital': 'Pyongyang', 'continentName': 'Asia'}, {'countryCode': 'KR', 'countryName': 'South Korea', 'currencyCode': 'KRW', 'population': '48422644', 'capital': 'Seoul', 'continentName': 'Asia'}, {'countryCode': 'KW', 'countryName': 'Kuwait', 'currencyCode': 'KWD', 'population': '2789132', 'capital': 'Kuwait City', 'continentName': 'Asia'}, {'countryCode': 'KY', 'countryName': 'Cayman Islands', 'currencyCode': 'KYD', 'population': '44270', 'capital': 'George Town', 'continentName': 'North America'}, {'countryCode': 'KZ', 'countryName': 'Kazakhstan', 'currencyCode': 'KZT', 'population': '15340000', 'capital': 'Astana', 'continentName': 'Asia'}, {'countryCode': 'LA', 'countryName': 'Laos', 'currencyCode': 'LAK', 'population': '6368162', 'capital': 'Vientiane', 'continentName': 'Asia'}, {'countryCode': 'LB', 'countryName': 'Lebanon', 'currencyCode': 'LBP', 'population': '4125247', 'capital': 'Beirut', 'continentName': 'Asia'}, {'countryCode': 'LC', 'countryName': 'Saint Lucia', 'currencyCode': 'XCD', 'population': '160922', 'capital': 'Castries', 'continentName': 'North America'}, {'countryCode': 'LI', 'countryName': 'Liechtenstein', 'currencyCode': 'CHF', 'population': '35000', 'capital': 'Vaduz', 'continentName': 'Europe'}, {'countryCode': 'LK', 'countryName': 'Sri Lanka', 'currencyCode': 'LKR', 'population': '21513990', 'capital': 'Colombo', 'continentName': 'Asia'}, {'countryCode': 'LR', 'countryName': 'Liberia', 'currencyCode': 'LRD', 'population': '3685076', 'capital': 'Monrovia', 'continentName': 'Africa'}, {'countryCode': 'LS', 'countryName': 'Lesotho', 'currencyCode': 'LSL', 'population': '1919552', 'capital': 'Maseru', 'continentName': 'Africa'}, {'countryCode': 'LT', 'countryName': 'Lithuania', 'currencyCode': 'EUR', 'population': '2944459', 'capital': 'Vilnius', 'continentName': 'Europe'}, {'countryCode': 'LU', 'countryName': 'Luxembourg', 'currencyCode': 'EUR', 'population': '497538', 'capital': 'Luxembourg', 'continentName': 'Europe'}, {'countryCode': 'LV', 'countryName': 'Latvia', 'currencyCode': 'EUR', 'population': '2217969', 'capital': 'Riga', 'continentName': 'Europe'}, {'countryCode': 'LY', 'countryName': 'Libya', 'currencyCode': 'LYD', 'population': '6461454', 'capital': 'Tripoli', 'continentName': 'Africa'}, {'countryCode': 'MA', 'countryName': 'Morocco', 'currencyCode': 'MAD', 'population': '33848242', 'capital': 'Rabat', 'continentName': 'Africa'}, {'countryCode': 'MC', 'countryName': 'Monaco', 'currencyCode': 'EUR', 'population': '32965', 'capital': 'Monaco', 'continentName': 'Europe'}, {'countryCode': 'MD', 'countryName': 'Moldova', 'currencyCode': 'MDL', 'population': '4324000', 'capital': 'ChiÅŸinÄƒu', 'continentName': 'Europe'}, {'countryCode': 'ME', 'countryName': 'Montenegro', 'currencyCode': 'EUR', 'population': '666730', 'capital': 'Podgorica', 'continentName': 'Europe'}, {'countryCode': 'MF', 'countryName': 'Saint Martin', 'currencyCode': 'EUR', 'population': '35925', 'capital': 'Marigot', 'continentName': 'North America'}, {'countryCode': 'MG', 'countryName': 'Madagascar', 'currencyCode': 'MGA', 'population': '21281844', 'capital': 'Antananarivo', 'continentName': 'Africa'}, {'countryCode': 'MH', 'countryName': 'Marshall Islands', 'currencyCode': 'USD', 'population': '65859', 'capital': 'Majuro', 'continentName': 'Oceania'}, {'countryCode': 'MK', 'countryName': 'Macedonia', 'currencyCode': 'MKD', 'population': '2062294', 'capital': 'Skopje', 'continentName': 'Europe'}, {'countryCode': 'ML', 'countryName': 'Mali', 'currencyCode': 'XOF', 'population': '13796354', 'capital': 'Bamako', 'continentName': 'Africa'}, {'countryCode': 'MM', 'countryName': 'Myanmar [Burma]', 'currencyCode': 'MMK', 'population': '53414374', 'capital': 'Naypyitaw', 'continentName': 'Asia'}, {'countryCode': 'MN', 'countryName': 'Mongolia', 'currencyCode': 'MNT', 'population': '3086918', 'capital': 'Ulan Bator', 'continentName': 'Asia'}, {'countryCode': 'MO', 'countryName': 'Macao', 'currencyCode': 'MOP', 'population': '449198', 'capital': 'Macao', 'continentName': 'Asia'}, {'countryCode': 'MP', 'countryName': 'Northern Mariana Islands', 'currencyCode': 'USD', 'population': '53883', 'capital': 'Saipan', 'continentName': 'Oceania'}, {'countryCode': 'MQ', 'countryName': 'Martinique', 'currencyCode': 'EUR', 'population': '432900', 'capital': 'Fort-de-France', 'continentName': 'North America'}, {'countryCode': 'MR', 'countryName': 'Mauritania', 'currencyCode': 'MRO', 'population': '3205060', 'capital': 'Nouakchott', 'continentName': 'Africa'}, {'countryCode': 'MS', 'countryName': 'Montserrat', 'currencyCode': 'XCD', 'population': '9341', 'capital': 'Plymouth', 'continentName': 'North America'}, {'countryCode': 'MT', 'countryName': 'Malta', 'currencyCode': 'EUR', 'population': '403000', 'capital': 'Valletta', 'continentName': 'Europe'}, {'countryCode': 'MU', 'countryName': 'Mauritius', 'currencyCode': 'MUR', 'population': '1294104', 'capital': 'Port Louis', 'continentName': 'Africa'}, {'countryCode': 'MV', 'countryName': 'Maldives', 'currencyCode': 'MVR', 'population': '395650', 'capital': 'MalÃ©', 'continentName': 'Asia'}, {'countryCode': 'MW', 'countryName': 'Malawi', 'currencyCode': 'MWK', 'population': '15447500', 'capital': 'Lilongwe', 'continentName': 'Africa'}, {'countryCode': 'MX', 'countryName': 'Mexico', 'currencyCode': 'MXN', 'population': '112468855', 'capital': 'Mexico City', 'continentName': 'North America'}, {'countryCode': 'MY', 'countryName': 'Malaysia', 'currencyCode': 'MYR', 'population': '28274729', 'capital': 'Kuala Lumpur', 'continentName': 'Asia'}, {'countryCode': 'MZ', 'countryName': 'Mozambique', 'currencyCode': 'MZN', 'population': '22061451', 'capital': 'Maputo', 'continentName': 'Africa'}, {'countryCode': 'NA', 'countryName': 'Namibia', 'currencyCode': 'NAD', 'population': '2128471', 'capital': 'Windhoek', 'continentName': 'Africa'}, {'countryCode': 'NC', 'countryName': 'New Caledonia', 'currencyCode': 'XPF', 'population': '216494', 'capital': 'Noumea', 'continentName': 'Oceania'}, {'countryCode': 'NE', 'countryName': 'Niger', 'currencyCode': 'XOF', 'population': '15878271', 'capital': 'Niamey', 'continentName': 'Africa'}, {'countryCode': 'NF', 'countryName': 'Norfolk Island', 'currencyCode': 'AUD', 'population': '1828', 'capital': 'Kingston', 'continentName': 'Oceania'}, {'countryCode': 'NG', 'countryName': 'Nigeria', 'currencyCode': 'NGN', 'population': '154000000', 'capital': 'Abuja', 'continentName': 'Africa'}, {'countryCode': 'NI', 'countryName': 'Nicaragua', 'currencyCode': 'NIO', 'population': '5995928', 'capital': 'Managua', 'continentName': 'North America'}, {'countryCode': 'NL', 'countryName': 'Netherlands', 'currencyCode': 'EUR', 'population': '16645000', 'capital': 'Amsterdam', 'continentName': 'Europe'}, {'countryCode': 'NO', 'countryName': 'Norway', 'currencyCode': 'NOK', 'population': '5009150', 'capital': 'Oslo', 'continentName': 'Europe'}, {'countryCode': 'NP', 'countryName': 'Nepal', 'currencyCode': 'NPR', 'population': '28951852', 'capital': 'Kathmandu', 'continentName': 'Asia'}, {'countryCode': 'NR', 'countryName': 'Nauru', 'currencyCode': 'AUD', 'population': '10065', 'capital': 'Yaren', 'continentName': 'Oceania'}, {'countryCode': 'NU', 'countryName': 'Niue', 'currencyCode': 'NZD', 'population': '2166', 'capital': 'Alofi', 'continentName': 'Oceania'}, {'countryCode': 'NZ', 'countryName': 'New Zealand', 'currencyCode': 'NZD', 'population': '4252277', 'capital': 'Wellington', 'continentName': 'Oceania'}, {'countryCode': 'OM', 'countryName': 'Oman', 'currencyCode': 'OMR', 'population': '2967717', 'capital': 'Muscat', 'continentName': 'Asia'}, {'countryCode': 'PA', 'countryName': 'Panama', 'currencyCode': 'PAB', 'population': '3410676', 'capital': 'Panama City', 'continentName': 'North America'}, {'countryCode': 'PE', 'countryName': 'Peru', 'currencyCode': 'PEN', 'population': '29907003', 'capital': 'Lima', 'continentName': 'South America'}, {'countryCode': 'PF', 'countryName': 'French Polynesia', 'currencyCode': 'XPF', 'population': '270485', 'capital': 'Papeete', 'continentName': 'Oceania'}, {'countryCode': 'PG', 'countryName': 'Papua New Guinea', 'currencyCode': 'PGK', 'population': '6064515', 'capital': 'Port Moresby', 'continentName': 'Oceania'}, {'countryCode': 'PH', 'countryName': 'Philippines', 'currencyCode': 'PHP', 'population': '99900177', 'capital': 'Manila', 'continentName': 'Asia'}, {'countryCode': 'PK', 'countryName': 'Pakistan', 'currencyCode': 'PKR', 'population': '184404791', 'capital': 'Islamabad', 'continentName': 'Asia'}, {'countryCode': 'PL', 'countryName': 'Poland', 'currencyCode': 'PLN', 'population': '38500000', 'capital': 'Warsaw', 'continentName': 'Europe'}, {'countryCode': 'PM', 'countryName': 'Saint Pierre and Miquelon', 'currencyCode': 'EUR', 'population': '7012', 'capital': 'Saint-Pierre', 'continentName': 'North America'}, {'countryCode': 'PN', 'countryName': 'Pitcairn Islands', 'currencyCode': 'NZD', 'population': '46', 'capital': 'Adamstown', 'continentName': 'Oceania'}, {'countryCode': 'PR', 'countryName': 'Puerto Rico', 'currencyCode': 'USD', 'population': '3916632', 'capital': 'San Juan', 'continentName': 'North America'}, {'countryCode': 'PS', 'countryName': 'Palestine', 'currencyCode': 'ILS', 'population': '3800000', 'capital': '', 'continentName': 'Asia'}, {'countryCode': 'PT', 'countryName': 'Portugal', 'currencyCode': 'EUR', 'population': '10676000', 'capital': 'Lisbon', 'continentName': 'Europe'}, {'countryCode': 'PW', 'countryName': 'Palau', 'currencyCode': 'USD', 'population': '19907', 'capital': 'Melekeok', 'continentName': 'Oceania'}, {'countryCode': 'PY', 'countryName': 'Paraguay', 'currencyCode': 'PYG', 'population': '6375830', 'capital': 'AsunciÃ³n', 'continentName': 'South America'}, {'countryCode': 'QA', 'countryName': 'Qatar', 'currencyCode': 'QAR', 'population': '840926', 'capital': 'Doha', 'continentName': 'Asia'}, {'countryCode': 'RE', 'countryName': 'RÃ©union', 'currencyCode': 'EUR', 'population': '776948', 'capital': 'Saint-Denis', 'continentName': 'Africa'}, {'countryCode': 'RO', 'countryName': 'Romania', 'currencyCode': 'RON', 'population': '21959278', 'capital': 'Bucharest', 'continentName': 'Europe'}, {'countryCode': 'RS', 'countryName': 'Serbia', 'currencyCode': 'RSD', 'population': '7344847', 'capital': 'Belgrade', 'continentName': 'Europe'}, {'countryCode': 'RU', 'countryName': 'Russia', 'currencyCode': 'RUB', 'population': '140702000', 'capital': 'Moscow', 'continentName': 'Europe'}, {'countryCode': 'RW', 'countryName': 'Rwanda', 'currencyCode': 'RWF', 'population': '11055976', 'capital': 'Kigali', 'continentName': 'Africa'}, {'countryCode': 'SA', 'countryName': 'Saudi Arabia', 'currencyCode': 'SAR', 'population': '25731776', 'capital': 'Riyadh', 'continentName': 'Asia'}, {'countryCode': 'SB', 'countryName': 'Solomon Islands', 'currencyCode': 'SBD', 'population': '559198', 'capital': 'Honiara', 'continentName': 'Oceania'}, {'countryCode': 'SC', 'countryName': 'Seychelles', 'currencyCode': 'SCR', 'population': '88340', 'capital': 'Victoria', 'continentName': 'Africa'}, {'countryCode': 'SD', 'countryName': 'Sudan', 'currencyCode': 'SDG', 'population': '35000000', 'capital': 'Khartoum', 'continentName': 'Africa'}, {'countryCode': 'SE', 'countryName': 'Sweden', 'currencyCode': 'SEK', 'population': '9828655', 'capital': 'Stockholm', 'continentName': 'Europe'}, {'countryCode': 'SG', 'countryName': 'Singapore', 'currencyCode': 'SGD', 'population': '4701069', 'capital': 'Singapore', 'continentName': 'Asia'}, {'countryCode': 'SH', 'countryName': 'Saint Helena', 'currencyCode': 'SHP', 'population': '7460', 'capital': 'Jamestown', 'continentName': 'Africa'}, {'countryCode': 'SI', 'countryName': 'Slovenia', 'currencyCode': 'EUR', 'population': '2007000', 'capital': 'Ljubljana', 'continentName': 'Europe'}, {'countryCode': 'SJ', 'countryName': 'Svalbard and Jan Mayen', 'currencyCode': 'NOK', 'population': '2550', 'capital': 'Longyearbyen', 'continentName': 'Europe'}, {'countryCode': 'SK', 'countryName': 'Slovakia', 'currencyCode': 'EUR', 'population': '5455000', 'capital': 'Bratislava', 'continentName': 'Europe'}, {'countryCode': 'SL', 'countryName': 'Sierra Leone', 'currencyCode': 'SLL', 'population': '5245695', 'capital': 'Freetown', 'continentName': 'Africa'}, {'countryCode': 'SM', 'countryName': 'San Marino', 'currencyCode': 'EUR', 'population': '31477', 'capital': 'San Marino', 'continentName': 'Europe'}, {'countryCode': 'SN', 'countryName': 'Senegal', 'currencyCode': 'XOF', 'population': '12323252', 'capital': 'Dakar', 'continentName': 'Africa'}, {'countryCode': 'SO', 'countryName': 'Somalia', 'currencyCode': 'SOS', 'population': '10112453', 'capital': 'Mogadishu', 'continentName': 'Africa'}, {'countryCode': 'SR', 'countryName': 'Suriname', 'currencyCode': 'SRD', 'population': '492829', 'capital': 'Paramaribo', 'continentName': 'South America'}, {'countryCode': 'SS', 'countryName': 'South Sudan', 'currencyCode': 'SSP', 'population': '8260490', 'capital': 'Juba', 'continentName': 'Africa'}, {'countryCode': 'ST', 'countryName': 'SÃ£o TomÃ© and PrÃ\\xadncipe', 'currencyCode': 'STD', 'population': '175808', 'capital': 'SÃ£o TomÃ©', 'continentName': 'Africa'}, {'countryCode': 'SV', 'countryName': 'El Salvador', 'currencyCode': 'USD', 'population': '6052064', 'capital': 'San Salvador', 'continentName': 'North America'}, {'countryCode': 'SX', 'countryName': 'Sint Maarten', 'currencyCode': 'ANG', 'population': '37429', 'capital': 'Philipsburg', 'continentName': 'North America'}, {'countryCode': 'SY', 'countryName': 'Syria', 'currencyCode': 'SYP', 'population': '22198110', 'capital': 'Damascus', 'continentName': 'Asia'}, {'countryCode': 'SZ', 'countryName': 'Swaziland', 'currencyCode': 'SZL', 'population': '1354051', 'capital': 'Mbabane', 'continentName': 'Africa'}, {'countryCode': 'TC', 'countryName': 'Turks and Caicos Islands', 'currencyCode': 'USD', 'population': '20556', 'capital': 'Cockburn Town', 'continentName': 'North America'}, {'countryCode': 'TD', 'countryName': 'Chad', 'currencyCode': 'XAF', 'population': '10543464', 'capital': \"N'Djamena\", 'continentName': 'Africa'}, {'countryCode': 'TF', 'countryName': 'French Southern Territories', 'currencyCode': 'EUR', 'population': '140', 'capital': 'Port-aux-FranÃ§ais', 'continentName': 'Antarctica'}, {'countryCode': 'TG', 'countryName': 'Togo', 'currencyCode': 'XOF', 'population': '6587239', 'capital': 'LomÃ©', 'continentName': 'Africa'}, {'countryCode': 'TH', 'countryName': 'Thailand', 'currencyCode': 'THB', 'population': '67089500', 'capital': 'Bangkok', 'continentName': 'Asia'}, {'countryCode': 'TJ', 'countryName': 'Tajikistan', 'currencyCode': 'TJS', 'population': '7487489', 'capital': 'Dushanbe', 'continentName': 'Asia'}, {'countryCode': 'TK', 'countryName': 'Tokelau', 'currencyCode': 'NZD', 'population': '1466', 'capital': '', 'continentName': 'Oceania'}, {'countryCode': 'TL', 'countryName': 'East Timor', 'currencyCode': 'USD', 'population': '1154625', 'capital': 'Dili', 'continentName': 'Oceania'}, {'countryCode': 'TM', 'countryName': 'Turkmenistan', 'currencyCode': 'TMT', 'population': '4940916', 'capital': 'Ashgabat', 'continentName': 'Asia'}, {'countryCode': 'TN', 'countryName': 'Tunisia', 'currencyCode': 'TND', 'population': '10589025', 'capital': 'Tunis', 'continentName': 'Africa'}, {'countryCode': 'TO', 'countryName': 'Tonga', 'currencyCode': 'TOP', 'population': '122580', 'capital': \"Nuku'alofa\", 'continentName': 'Oceania'}, {'countryCode': 'TR', 'countryName': 'Turkey', 'currencyCode': 'TRY', 'population': '77804122', 'capital': 'Ankara', 'continentName': 'Asia'}, {'countryCode': 'TT', 'countryName': 'Trinidad and Tobago', 'currencyCode': 'TTD', 'population': '1228691', 'capital': 'Port of Spain', 'continentName': 'North America'}, {'countryCode': 'TV', 'countryName': 'Tuvalu', 'currencyCode': 'AUD', 'population': '10472', 'capital': 'Funafuti', 'continentName': 'Oceania'}, {'countryCode': 'TW', 'countryName': 'Taiwan', 'currencyCode': 'TWD', 'population': '22894384', 'capital': 'Taipei', 'continentName': 'Asia'}, {'countryCode': 'TZ', 'countryName': 'Tanzania', 'currencyCode': 'TZS', 'population': '41892895', 'capital': 'Dodoma', 'continentName': 'Africa'}, {'countryCode': 'UA', 'countryName': 'Ukraine', 'currencyCode': 'UAH', 'population': '45415596', 'capital': 'Kiev', 'continentName': 'Europe'}, {'countryCode': 'UG', 'countryName': 'Uganda', 'currencyCode': 'UGX', 'population': '33398682', 'capital': 'Kampala', 'continentName': 'Africa'}, {'countryCode': 'UM', 'countryName': 'U.S. Minor Outlying Islands', 'currencyCode': 'USD', 'population': '0', 'capital': '', 'continentName': 'Oceania'}, {'countryCode': 'US', 'countryName': 'United States', 'currencyCode': 'USD', 'population': '310232863', 'capital': 'Washington', 'continentName': 'North America'}, {'countryCode': 'UY', 'countryName': 'Uruguay', 'currencyCode': 'UYU', 'population': '3477000', 'capital': 'Montevideo', 'continentName': 'South America'}, {'countryCode': 'UZ', 'countryName': 'Uzbekistan', 'currencyCode': 'UZS', 'population': '27865738', 'capital': 'Tashkent', 'continentName': 'Asia'}, {'countryCode': 'VA', 'countryName': 'Vatican City', 'currencyCode': 'EUR', 'population': '921', 'capital': 'Vatican City', 'continentName': 'Europe'}, {'countryCode': 'VC', 'countryName': 'Saint Vincent and the Grenadines', 'currencyCode': 'XCD', 'population': '104217', 'capital': 'Kingstown', 'continentName': 'North America'}, {'countryCode': 'VE', 'countryName': 'Venezuela', 'currencyCode': 'VEF', 'population': '27223228', 'capital': 'Caracas', 'continentName': 'South America'}, {'countryCode': 'VG', 'countryName': 'British Virgin Islands', 'currencyCode': 'USD', 'population': '21730', 'capital': 'Road Town', 'continentName': 'North America'}, {'countryCode': 'VI', 'countryName': 'U.S. Virgin Islands', 'currencyCode': 'USD', 'population': '108708', 'capital': 'Charlotte Amalie', 'continentName': 'North America'}, {'countryCode': 'VN', 'countryName': 'Vietnam', 'currencyCode': 'VND', 'population': '89571130', 'capital': 'Hanoi', 'continentName': 'Asia'}, {'countryCode': 'VU', 'countryName': 'Vanuatu', 'currencyCode': 'VUV', 'population': '221552', 'capital': 'Port Vila', 'continentName': 'Oceania'}, {'countryCode': 'WF', 'countryName': 'Wallis and Futuna', 'currencyCode': 'XPF', 'population': '16025', 'capital': 'Mata-Utu', 'continentName': 'Oceania'}, {'countryCode': 'WS', 'countryName': 'Samoa', 'currencyCode': 'WST', 'population': '192001', 'capital': 'Apia', 'continentName': 'Oceania'}, {'countryCode': 'XK', 'countryName': 'Kosovo', 'currencyCode': 'EUR', 'population': '1800000', 'capital': 'Pristina', 'continentName': 'Europe'}, {'countryCode': 'YE', 'countryName': 'Yemen', 'currencyCode': 'YER', 'population': '23495361', 'capital': 'Sanaa', 'continentName': 'Asia'}, {'countryCode': 'YT', 'countryName': 'Mayotte', 'currencyCode': 'EUR', 'population': '159042', 'capital': 'Mamoudzou', 'continentName': 'Africa'}, {'countryCode': 'ZA', 'countryName': 'South Africa', 'currencyCode': 'ZAR', 'population': '49000000', 'capital': 'Pretoria', 'continentName': 'Africa'}, {'countryCode': 'ZM', 'countryName': 'Zambia', 'currencyCode': 'ZMW', 'population': '13460305', 'capital': 'Lusaka', 'continentName': 'Africa'}, {'countryCode': 'ZW', 'countryName': 'Zimbabwe', 'currencyCode': 'ZWL', 'population': '13061000', 'capital': 'Harare', 'continentName': 'Africa'}]}}\n"
     ]
    }
   ],
   "source": [
    "import json\n",
    "\n",
    "filename = \"countries.json\"\n",
    "with open(filename, \"r\") as file:\n",
    "    countries = json.load(file)\n",
    "\n",
    "print(countries)"
   ]
  },
  {
   "cell_type": "code",
   "execution_count": 3,
   "metadata": {},
   "outputs": [
    {
     "name": "stdout",
     "output_type": "stream",
     "text": [
      "{'EUR': 'YT', 'AED': 'AE', 'AFN': 'AF', 'XCD': 'VC', 'ALL': 'AL', 'AMD': 'AM', 'AOA': 'AO', '': 'AQ', 'ARS': 'AR', 'USD': 'VI', 'AUD': 'TV', 'AWG': 'AW', 'AZN': 'AZ', 'BAM': 'BA', 'BBD': 'BB', 'BDT': 'BD', 'XOF': 'TG', 'BGN': 'BG', 'BHD': 'BH', 'BIF': 'BI', 'BMD': 'BM', 'BND': 'BN', 'BOB': 'BO', 'BRL': 'BR', 'BSD': 'BS', 'BTN': 'BT', 'NOK': 'SJ', 'BWP': 'BW', 'BYR': 'BY', 'BZD': 'BZ', 'CAD': 'CA', 'CDF': 'CD', 'XAF': 'TD', 'CHF': 'LI', 'NZD': 'TK', 'CLP': 'CL', 'CNY': 'CN', 'COP': 'CO', 'CRC': 'CR', 'CUP': 'CU', 'CVE': 'CV', 'ANG': 'SX', 'CZK': 'CZ', 'DJF': 'DJ', 'DKK': 'GL', 'DOP': 'DO', 'DZD': 'DZ', 'EGP': 'EG', 'MAD': 'MA', 'ERN': 'ER', 'ETB': 'ET', 'FJD': 'FJ', 'FKP': 'FK', 'GBP': 'JE', 'GEL': 'GE', 'GHS': 'GH', 'GIP': 'GI', 'GMD': 'GM', 'GNF': 'GN', 'GTQ': 'GT', 'GYD': 'GY', 'HKD': 'HK', 'HNL': 'HN', 'HRK': 'HR', 'HTG': 'HT', 'HUF': 'HU', 'IDR': 'ID', 'ILS': 'PS', 'INR': 'IN', 'IQD': 'IQ', 'IRR': 'IR', 'ISK': 'IS', 'JMD': 'JM', 'JOD': 'JO', 'JPY': 'JP', 'KES': 'KE', 'KGS': 'KG', 'KHR': 'KH', 'KMF': 'KM', 'KPW': 'KP', 'KRW': 'KR', 'KWD': 'KW', 'KYD': 'KY', 'KZT': 'KZ', 'LAK': 'LA', 'LBP': 'LB', 'LKR': 'LK', 'LRD': 'LR', 'LSL': 'LS', 'LYD': 'LY', 'MDL': 'MD', 'MGA': 'MG', 'MKD': 'MK', 'MMK': 'MM', 'MNT': 'MN', 'MOP': 'MO', 'MRO': 'MR', 'MUR': 'MU', 'MVR': 'MV', 'MWK': 'MW', 'MXN': 'MX', 'MYR': 'MY', 'MZN': 'MZ', 'NAD': 'NA', 'XPF': 'WF', 'NGN': 'NG', 'NIO': 'NI', 'NPR': 'NP', 'OMR': 'OM', 'PAB': 'PA', 'PEN': 'PE', 'PGK': 'PG', 'PHP': 'PH', 'PKR': 'PK', 'PLN': 'PL', 'PYG': 'PY', 'QAR': 'QA', 'RON': 'RO', 'RSD': 'RS', 'RUB': 'RU', 'RWF': 'RW', 'SAR': 'SA', 'SBD': 'SB', 'SCR': 'SC', 'SDG': 'SD', 'SEK': 'SE', 'SGD': 'SG', 'SHP': 'SH', 'SLL': 'SL', 'SOS': 'SO', 'SRD': 'SR', 'SSP': 'SS', 'STD': 'ST', 'SYP': 'SY', 'SZL': 'SZ', 'THB': 'TH', 'TJS': 'TJ', 'TMT': 'TM', 'TND': 'TN', 'TOP': 'TO', 'TRY': 'TR', 'TTD': 'TT', 'TWD': 'TW', 'TZS': 'TZ', 'UAH': 'UA', 'UGX': 'UG', 'UYU': 'UY', 'UZS': 'UZ', 'VEF': 'VE', 'VND': 'VN', 'VUV': 'VU', 'WST': 'WS', 'YER': 'YE', 'ZAR': 'ZA', 'ZMW': 'ZM', 'ZWL': 'ZW'}\n"
     ]
    }
   ],
   "source": [
    "currency_country_dict = {country['currencyCode']: country['countryCode'] for country in countries['countries']['country']}\n",
    "print(currency_country_dict)"
   ]
  }
 ],
 "metadata": {
  "kernelspec": {
   "display_name": ".venv",
   "language": "python",
   "name": "python3"
  },
  "language_info": {
   "codemirror_mode": {
    "name": "ipython",
    "version": 3
   },
   "file_extension": ".py",
   "mimetype": "text/x-python",
   "name": "python",
   "nbconvert_exporter": "python",
   "pygments_lexer": "ipython3",
   "version": "3.13.0"
  }
 },
 "nbformat": 4,
 "nbformat_minor": 2
}
